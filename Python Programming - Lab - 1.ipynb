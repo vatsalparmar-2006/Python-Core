{
 "cells": [
  {
   "cell_type": "markdown",
   "metadata": {},
   "source": [
    "<a href='https://www.darshan.ac.in/'> <img src='https://www.darshan.ac.in/Content/media/DU_Logo.svg' width=\"250\" height=\"10\"/></a>\n",
    "<pre>\n",
    "<center><b><h1>Python Programming - 2301CS404</b></center>\n",
    "<center><b><h1>Lab - 1</b></center>    \n",
    "<pre>"
   ]
  },
  {
   "cell_type": "markdown",
   "metadata": {},
   "source": [
    "### 01) WAP to print “Hello World”"
   ]
  },
  {
   "cell_type": "code",
   "execution_count": 5,
   "metadata": {},
   "outputs": [
    {
     "name": "stdout",
     "output_type": "stream",
     "text": [
      "Hello World from Python.\n"
     ]
    }
   ],
   "source": [
    "print(\"Hello World from Python.\")"
   ]
  },
  {
   "cell_type": "markdown",
   "metadata": {},
   "source": [
    "### 02) WAP to print addition of two numbers with and without using input()."
   ]
  },
  {
   "cell_type": "code",
   "execution_count": 1,
   "metadata": {},
   "outputs": [
    {
     "name": "stdout",
     "output_type": "stream",
     "text": [
      "Without input(), Sum is : 30\n",
      "-----------\n",
      "Enter first value :\n",
      "Enter second value :\n",
      "With input(), Sum is : 30\n"
     ]
    }
   ],
   "source": [
    "a, b = 10,20\n",
    "c = a + b\n",
    "print(\"Without input(), Sum is :\",c)\n",
    " \n",
    "print(\"-----------\")\n",
    "\n",
    "print(\"Enter first value :\")\n",
    "a = int(input())\n",
    "print(\"Enter second value :\")\n",
    "b = int(input())\n",
    "c = a + b\n",
    "print(\"With input(), Sum is :\",c)"
   ]
  },
  {
   "cell_type": "markdown",
   "metadata": {},
   "source": [
    "### 03) WAP to check the type of the variable."
   ]
  },
  {
   "cell_type": "code",
   "execution_count": 6,
   "metadata": {},
   "outputs": [
    {
     "name": "stdout",
     "output_type": "stream",
     "text": [
      "<class 'int'>\n"
     ]
    }
   ],
   "source": [
    "a = int(input(\"Enter a value :\"))\n",
    "print(type(a))"
   ]
  },
  {
   "cell_type": "markdown",
   "metadata": {},
   "source": [
    "### 04) WAP to calculate simple interest."
   ]
  },
  {
   "cell_type": "code",
   "execution_count": 7,
   "metadata": {},
   "outputs": [
    {
     "name": "stdout",
     "output_type": "stream",
     "text": [
      "Simple Interest is : 12.0\n"
     ]
    }
   ],
   "source": [
    "P = int(input(\"Enter Principle :\"))\n",
    "R = int(input(\"Enter Rate of Interest :\"))\n",
    "T = int(input(\"Enter Time Period :\"))\n",
    "\n",
    "I = (P*R*T)/(100.0)\n",
    "\n",
    "print(\"Simple Interest is :\",I)\n"
   ]
  },
  {
   "cell_type": "markdown",
   "metadata": {},
   "source": [
    "### 05) WAP to calculate area and perimeter of a circle."
   ]
  },
  {
   "cell_type": "code",
   "execution_count": 10,
   "metadata": {},
   "outputs": [
    {
     "name": "stdout",
     "output_type": "stream",
     "text": [
      "Area of circle is : 153.93804002589985\n",
      "Area of perimeter is : 43.96\n"
     ]
    }
   ],
   "source": [
    "import math\n",
    "\n",
    "r = float(input(\"Enter radius of Circle :\"))\n",
    "area = (math.pi*r*r)\n",
    "perimeter = (2*3.14*r)\n",
    "\n",
    "print(\"Area of circle is :\",area)\n",
    "print(\"Area of perimeter is :\",perimeter)\n"
   ]
  },
  {
   "cell_type": "markdown",
   "metadata": {},
   "source": [
    "### 06) WAP to calculate area of a triangle."
   ]
  },
  {
   "cell_type": "code",
   "execution_count": 11,
   "metadata": {},
   "outputs": [
    {
     "name": "stdout",
     "output_type": "stream",
     "text": [
      "Area of triangle is : 25.0\n"
     ]
    }
   ],
   "source": [
    "b = float(input(\"Enter base of Triangle :\"))\n",
    "a = float(input(\"Enter altitude of Triangle :\"))\n",
    "\n",
    "area = (b*a)/2\n",
    "\n",
    "print(\"Area of triangle is :\",area)"
   ]
  },
  {
   "cell_type": "markdown",
   "metadata": {},
   "source": [
    "### 07) WAP to compute quotient and remainder."
   ]
  },
  {
   "cell_type": "code",
   "execution_count": null,
   "metadata": {},
   "outputs": [
    {
     "name": "stdout",
     "output_type": "stream",
     "text": [
      "Quotient is : 5.0\n",
      "Remainder is : {0.0}\n"
     ]
    }
   ],
   "source": [
    "a = float(input(\"Enter first value :\"))\n",
    "b = float(input(\"Enter second value :\"))\n",
    "\n",
    "print(\"Quotient is :\",a/b)\n",
    "print(\"Remainder is :\",a%b)"
   ]
  },
  {
   "cell_type": "markdown",
   "metadata": {},
   "source": [
    "### 08) WAP to convert degree into Fahrenheit and vice versa."
   ]
  },
  {
   "cell_type": "code",
   "execution_count": 9,
   "metadata": {},
   "outputs": [
    {
     "name": "stdout",
     "output_type": "stream",
     "text": [
      "Temperature Converter\n",
      "1. Celsius to Fahrenheit\n",
      "2. Fahrenheit to Celsius\n",
      "Fahrenheit : 32.0\n"
     ]
    }
   ],
   "source": [
    "print(\"Temperature Converter\")\n",
    "print(\"1. Celsius to Fahrenheit\")\n",
    "print(\"2. Fahrenheit to Celsius\")\n",
    "\n",
    "choice = int(input(\"Choose an option (1 or 2) :\"))\n",
    "\n",
    "if choice == 1 :\n",
    "    celsius = float(input(\"Enter temperature in Celsius :\"))\n",
    "    fahrenheit = (celsius * 9/5) + 32\n",
    "    print(\"Fahrenheit :\",fahrenheit)\n",
    "elif choice == 2 :\n",
    "    fahrenheit = float(input(\"Enter temperature in Fahrenheit :\"))\n",
    "    celsius = (fahrenheit - 32) * 5/9\n",
    "    print(\"Celsius :\",celsius)\n",
    "else : \n",
    "    print(\"Invalid Choice.\")"
   ]
  },
  {
   "cell_type": "markdown",
   "metadata": {},
   "source": [
    "### 09) WAP to find the distance between two points in 2-D space."
   ]
  },
  {
   "cell_type": "code",
   "execution_count": 13,
   "metadata": {},
   "outputs": [
    {
     "name": "stdout",
     "output_type": "stream",
     "text": [
      "Distance is : 4.0\n"
     ]
    }
   ],
   "source": [
    "import math\n",
    "\n",
    "x1 = float(input(\"Enter x coordinate of the first point x1 :\")) \n",
    "y1 = float(input(\"Enter y coordinate of the first point y1 :\"))\n",
    "x2 = float(input(\"Enter x coordinate of the second point x2 :\"))\n",
    "y2 = float(input(\"Enter y coordinate of the second point y2 :\"))\n",
    "\n",
    "distance = float(math.sqrt((x2-x1)**2 + (y2-y1)**2))\n",
    "\n",
    "print(\"Distance is :\",distance)"
   ]
  },
  {
   "cell_type": "markdown",
   "metadata": {},
   "source": [
    "### 10) WAP to print sum of n natural numbers."
   ]
  },
  {
   "cell_type": "code",
   "execution_count": 5,
   "metadata": {},
   "outputs": [
    {
     "name": "stdout",
     "output_type": "stream",
     "text": [
      "Sum is : 0.0\n"
     ]
    }
   ],
   "source": [
    "n = int(input(\"Enter a number :\"))\n",
    "\n",
    "sum = (n*(n+1))/(2.0)\n",
    "\n",
    "print(\"Sum is :\",sum)"
   ]
  },
  {
   "cell_type": "markdown",
   "metadata": {},
   "source": [
    "### 11) WAP to print sum of square of n natural numbers."
   ]
  },
  {
   "cell_type": "code",
   "execution_count": null,
   "metadata": {},
   "outputs": [
    {
     "name": "stdout",
     "output_type": "stream",
     "text": [
      "Sum is : 55.0\n"
     ]
    }
   ],
   "source": [
    "n = int(input(\"Enter a number :\"))\n",
    "\n",
    "sum = (n*(n+1)*(2*n + 1))/(6.0)\n",
    "\n",
    "print(\"Sum of square is :\",sum)"
   ]
  },
  {
   "cell_type": "markdown",
   "metadata": {},
   "source": [
    "### 12) WAP to concate the first and last name of the student."
   ]
  },
  {
   "cell_type": "code",
   "execution_count": 3,
   "metadata": {},
   "outputs": [
    {
     "name": "stdout",
     "output_type": "stream",
     "text": [
      "Full Name is : Virat Kohli\n"
     ]
    }
   ],
   "source": [
    "firstName = input(\"Enter first name :\")\n",
    "secondName = input(\"Enter second name :\")\n",
    "\n",
    "fullName = firstName + \" \" + secondName\n",
    "\n",
    "print(\"Full Name is :\",fullName)"
   ]
  },
  {
   "cell_type": "markdown",
   "metadata": {},
   "source": [
    "### 13) WAP to swap two numbers."
   ]
  },
  {
   "cell_type": "code",
   "execution_count": null,
   "metadata": {},
   "outputs": [
    {
     "name": "stdout",
     "output_type": "stream",
     "text": [
      "Before Swap : 5 10\n",
      "After Swap : 10 5\n"
     ]
    }
   ],
   "source": [
    "a = int(input(\"Enter First number :\"))\n",
    "b = int(input(\"Enter Second number :\"))\n",
    "\n",
    "print(\"Before Swap :\",a,b)\n",
    "\n",
    "a, b = b, a   # Tuple Unpacking\n",
    "\n",
    "print(\"After Swap :\", a, b)"
   ]
  },
  {
   "cell_type": "markdown",
   "metadata": {},
   "source": [
    "### 14) WAP to get the distance from user into kilometer, and convert it into meter, feet, inches and centimeter."
   ]
  },
  {
   "cell_type": "code",
   "execution_count": 12,
   "metadata": {},
   "outputs": [
    {
     "name": "stdout",
     "output_type": "stream",
     "text": [
      "Distance in meter : 2100000\n",
      "Distance in centimeter : 210000000\n",
      "Distance in feet : 6889680.0\n",
      "Distance in inches : 82677000\n"
     ]
    }
   ],
   "source": [
    "kilometer = int(input(\"Enter distance in Kilometer :\"))\n",
    "\n",
    "meter = kilometer*1000\n",
    "centimeter = kilometer*100000\n",
    "feet = kilometer*3280.8\n",
    "inches = kilometer*39370\n",
    "\n",
    "print(\"Distance in meter :\",meter)\n",
    "print(\"Distance in centimeter :\",centimeter)\n",
    "print(\"Distance in feet :\",feet)\n",
    "print(\"Distance in inches :\",inches)"
   ]
  },
  {
   "cell_type": "markdown",
   "metadata": {},
   "source": [
    "### 15) WAP to get day, month and year from the user and print the date in the given format: 23-11-2024."
   ]
  },
  {
   "cell_type": "code",
   "execution_count": null,
   "metadata": {},
   "outputs": [
    {
     "name": "stdout",
     "output_type": "stream",
     "text": [
      "Time Format :-1-2-2025\n"
     ]
    }
   ],
   "source": [
    "year = int(input(\"Enter the year :\"))\n",
    "month = int(input(\"Enter the month :\"))\n",
    "day = int(input(\"Enter the day :\"))\n",
    "\n",
    "print(day,month,year, sep=\"-\")"
   ]
  }
 ],
 "metadata": {
  "kernelspec": {
   "display_name": "Python 3",
   "language": "python",
   "name": "python3"
  },
  "language_info": {
   "codemirror_mode": {
    "name": "ipython",
    "version": 3
   },
   "file_extension": ".py",
   "mimetype": "text/x-python",
   "name": "python",
   "nbconvert_exporter": "python",
   "pygments_lexer": "ipython3",
   "version": "3.13.0"
  }
 },
 "nbformat": 4,
 "nbformat_minor": 4
}
