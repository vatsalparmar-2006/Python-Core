{
 "cells": [
  {
   "cell_type": "markdown",
   "metadata": {},
   "source": [
    "<a href='https://www.darshan.ac.in/'> <img src='https://www.darshan.ac.in/Content/media/DU_Logo.svg' width=\"250\" height=\"300\"/></a>\n",
    "<pre>\n",
    "<center><b><h1>Python Programming - 2301CS404</b></center>\n",
    "<center><b><h1>Lab - 10</b></center>    \n",
    "<pre>"
   ]
  },
  {
   "cell_type": "markdown",
   "metadata": {},
   "source": [
    "# Exception Handling"
   ]
  },
  {
   "cell_type": "markdown",
   "metadata": {},
   "source": [
    "### 01) WAP to handle following exceptions:\n",
    "1. ZeroDivisionError\n",
    "2. ValueError\n",
    "3. TypeError\n",
    "#### Note: handle them using separate except blocks and also using single except block too."
   ]
  },
  {
   "cell_type": "code",
   "execution_count": 1,
   "metadata": {},
   "outputs": [
    {
     "name": "stdout",
     "output_type": "stream",
     "text": [
      "Handling exceptions separately:\n",
      "Error: Division by zero is not allowed.\n",
      "\n",
      "Handling exceptions in a single block:\n",
      "Error: division by zero\n"
     ]
    }
   ],
   "source": [
    "def handle_exceptions_separately():\n",
    "    try:\n",
    "        a = int(input(\"Enter a number: \"))\n",
    "        b = int(input(\"Enter another number: \"))\n",
    "        result = a / b\n",
    "        print(\"Result:\", result)\n",
    "    except ZeroDivisionError:\n",
    "        print(\"Error: Division by zero is not allowed.\")\n",
    "    except ValueError:\n",
    "        print(\"Error: Invalid input! Please enter an integer.\")\n",
    "    except TypeError:\n",
    "        print(\"Error: Type mismatch occurred.\")\n",
    "    except Exception as e:\n",
    "        print(f\"Unexpected error: {e}\")\n",
    "\n",
    "def handle_exceptions_single():\n",
    "    try:\n",
    "        a = int(input(\"Enter a number: \"))\n",
    "        b = int(input(\"Enter another number: \"))\n",
    "        result = a / b\n",
    "        print(\"Result:\", result)\n",
    "    except (ZeroDivisionError, ValueError, TypeError) as err:\n",
    "        print(f\"Error: {err}\")\n",
    "    except Exception as e:\n",
    "        print(f\"Unexpected error: {e}\")\n",
    "\n",
    "print(\"Handling exceptions separately:\")\n",
    "handle_exceptions_separately()\n",
    "\n",
    "print(\"\\nHandling exceptions in a single block:\")\n",
    "handle_exceptions_single()\n"
   ]
  },
  {
   "cell_type": "markdown",
   "metadata": {},
   "source": [
    "### 02)  WAP to handle following exceptions:\n",
    "1. IndexError\n",
    "2. KeyError"
   ]
  },
  {
   "cell_type": "code",
   "execution_count": 15,
   "metadata": {},
   "outputs": [
    {
     "name": "stdout",
     "output_type": "stream",
     "text": [
      "Index Not Found:\n",
      "<class 'IndexError'> => list index out of range\n",
      "\n",
      "Key Not Found:\n",
      "<class 'KeyError'> => 5\n"
     ]
    }
   ],
   "source": [
    "def handle_Index_Error():\n",
    "    try:\n",
    "        li = [1,2,3,4,5]\n",
    "        print(li[7])\n",
    "    except IndexError as err:\n",
    "        print(f\"{type(err)} => {err}\")\n",
    "\n",
    "def handle_Key_Error():\n",
    "    try:\n",
    "        dict = {1:'a', 2:'b', 3:'c'}\n",
    "        print(dict[5])\n",
    "    except KeyError as err:\n",
    "        print(f\"{type(err)} => {err}\")\n",
    "\n",
    "print('Index Not Found:')\n",
    "handle_Index_Error()\n",
    "print()\n",
    "print('Key Not Found:')\n",
    "handle_Key_Error()\n"
   ]
  },
  {
   "cell_type": "markdown",
   "metadata": {},
   "source": [
    "### 03) WAP to handle following exceptions:\n",
    "1. FileNotFoundError\n",
    "2. ModuleNotFoundError"
   ]
  },
  {
   "cell_type": "code",
   "execution_count": 10,
   "metadata": {},
   "outputs": [
    {
     "name": "stdout",
     "output_type": "stream",
     "text": [
      "File Not Found:\n",
      "<class 'FileNotFoundError'> => [Errno 2] No such file or directory: 'a.txt'\n",
      "\n",
      "Module Not Found:\n",
      "<class 'ModuleNotFoundError'> => No module named 'my_module_name'\n"
     ]
    }
   ],
   "source": [
    "# file not found function\n",
    "def handle_FileNot_found():\n",
    "    try:\n",
    "        fp = open('a.txt', 'r')\n",
    "        data = fp.read()\n",
    "    except Exception as err:\n",
    "        print(f\"{type(err)} => {err}\")\n",
    "\n",
    "# module not found function\n",
    "def handle_ModuleNot_found():\n",
    "    try:\n",
    "        import my_module_name\n",
    "    except Exception as err:\n",
    "        print(f\"{type(err)} => {err}\")\n",
    "\n",
    "\n",
    "print('File Not Found:')\n",
    "handle_FileNot_found()\n",
    "print()\n",
    "print('Module Not Found:')\n",
    "handle_ModuleNot_found()"
   ]
  },
  {
   "cell_type": "markdown",
   "metadata": {},
   "source": [
    "### 04) WAP that catches all type of exceptions in a single except block."
   ]
  },
  {
   "cell_type": "code",
   "execution_count": 12,
   "metadata": {},
   "outputs": [
    {
     "name": "stdout",
     "output_type": "stream",
     "text": [
      "TypeError => unsupported operand type(s) for +: 'int' and 'str'\n"
     ]
    }
   ],
   "source": [
    "def all_Exceptions():\n",
    "    try:\n",
    "        a = 10\n",
    "        b = \"Hello\"\n",
    "        print(a+b)\n",
    "    except Exception as err:\n",
    "        print(type(err).__name__ + \" => \" + str(err))\n",
    "\n",
    "all_Exceptions()"
   ]
  },
  {
   "cell_type": "markdown",
   "metadata": {},
   "source": [
    "### 05) WAP to demonstrate else  and finally block."
   ]
  },
  {
   "cell_type": "code",
   "execution_count": 16,
   "metadata": {},
   "outputs": [
    {
     "name": "stdout",
     "output_type": "stream",
     "text": [
      "FileNotFoundError => [Errno 2] No such file or directory: 'z.txt'\n",
      "This is a finally block and it's always executed.\n"
     ]
    }
   ],
   "source": [
    "def handle_else_finally():\n",
    "    try:\n",
    "        fp = open('z.txt', 'r')\n",
    "    except Exception as err:\n",
    "        print(type(err).__name__ + \" => \" + str(err))\n",
    "    else:\n",
    "        print(fp.read)\n",
    "    finally:\n",
    "        print(\"This is a finally block and it's always executed.\")\n",
    "\n",
    "handle_else_finally()"
   ]
  },
  {
   "cell_type": "markdown",
   "metadata": {},
   "source": [
    "### 06) Create a short program that prompts the user for a list of grades separated by commas. \n",
    "### Split the string into individual grades and use a list comprehension to convert each string to an integer. \n",
    "### You should use a try statement to inform the user when the values they entered cannot be converted."
   ]
  },
  {
   "cell_type": "code",
   "execution_count": 50,
   "metadata": {},
   "outputs": [
    {
     "name": "stdout",
     "output_type": "stream",
     "text": [
      "ValueError => invalid literal for int() with base 10: 'A'\n"
     ]
    }
   ],
   "source": [
    "def handle_str_int():\n",
    "    gradeString = input('Enter grades with commas:')\n",
    "    try:\n",
    "        l6 = gradeString.split(',')\n",
    "        gradeList = [int(i.strip()) for i in l6]\n",
    "        print('Entered grades: ',gradeList)\n",
    "    except Exception as err:\n",
    "        print(type(err).__name__ + \" => \" + str(err))\n",
    "\n",
    "handle_str_int()"
   ]
  },
  {
   "cell_type": "markdown",
   "metadata": {},
   "source": [
    "### 07) WAP to create an udf divide(a,b) that handles ZeroDivisionError."
   ]
  },
  {
   "cell_type": "code",
   "execution_count": 19,
   "metadata": {},
   "outputs": [
    {
     "name": "stdout",
     "output_type": "stream",
     "text": [
      "5.0\n",
      "ZeroDivisionError => division by zero\n"
     ]
    }
   ],
   "source": [
    "def divide(a, b):\n",
    "    try:\n",
    "        c = a/b\n",
    "    except Exception as err:\n",
    "        print(type(err).__name__ + \" => \" + str(err))\n",
    "    else:\n",
    "        print(c)\n",
    "\n",
    "divide(10,2)   \n",
    "divide(10,0)"
   ]
  },
  {
   "cell_type": "markdown",
   "metadata": {},
   "source": [
    "### 08) WAP that gets an age of a person form the user and raises ValueError with error message: \"Enter Valid Age\" :\n",
    "#### If the age is less than 18. \n",
    "#### otherwise print the age."
   ]
  },
  {
   "cell_type": "code",
   "execution_count": 36,
   "metadata": {},
   "outputs": [
    {
     "name": "stdout",
     "output_type": "stream",
     "text": [
      "Age:  25\n",
      "ValueError => Enter Valid Age\n"
     ]
    }
   ],
   "source": [
    "def check_age(age):\n",
    "    try:\n",
    "        if age>18:\n",
    "            print('Age: ',age)\n",
    "        else:\n",
    "            raise ValueError('Enter Valid Age')\n",
    "    except Exception as err:\n",
    "        print(type(err).__name__ + \" => \" + str(err)) \n",
    "\n",
    "check_age(25)\n",
    "check_age(10)"
   ]
  },
  {
   "cell_type": "markdown",
   "metadata": {},
   "source": [
    "### 09) WAP to raise your custom Exception named InvalidUsernameError with the error message : \"Username must be between 5 and 15 characters long\":\n",
    "#### if the given name is having characters less than 5 or greater than 15.\n",
    "#### otherwise print the given username."
   ]
  },
  {
   "cell_type": "code",
   "execution_count": 37,
   "metadata": {},
   "outputs": [
    {
     "name": "stdout",
     "output_type": "stream",
     "text": [
      "ValueError => invalid literal for int() with base 10: 'Enter your name: '\n"
     ]
    }
   ],
   "source": [
    "class InvalidUserNameError(Exception):\n",
    "    pass \n",
    "\n",
    "def custom_exception():\n",
    "    try:\n",
    "        name = int('Enter your name: ')\n",
    "        print('Name: ',name)\n",
    "        name_lenght = len(name)\n",
    "        if name_lenght >= 5 or name_lenght <= 15:\n",
    "            print(f\"{name} is valid name.\")\n",
    "        else:\n",
    "            raise InvalidUserNameError('Username must be between 5 and 15 characters long')\n",
    "    except Exception as err:\n",
    "        print(type(err).__name__ + \" => \" + str(err)) \n",
    "\n",
    "custom_exception()"
   ]
  },
  {
   "cell_type": "markdown",
   "metadata": {},
   "source": [
    "### 10) WAP to raise your custom Exception named NegativeNumberError with the error message : \"Cannot calculate the square root of a negative number\" :\n",
    "#### if the given number is negative.\n",
    "#### otherwise print the square root of the given number."
   ]
  },
  {
   "cell_type": "code",
   "execution_count": 45,
   "metadata": {},
   "outputs": [
    {
     "name": "stdout",
     "output_type": "stream",
     "text": [
      "Entered num:  -5.0\n",
      "NegativeNumberError => Cannot calculate the square root of a negative number.\n"
     ]
    }
   ],
   "source": [
    "import math\n",
    "\n",
    "class NegativeNumberError(Exception):\n",
    "    pass\n",
    "\n",
    "def custom_exception_square_root():\n",
    "    num = float(input(\"Enter a number: \"))\n",
    "    print('Entered num: ',num)\n",
    "    try:\n",
    "        if num<0:\n",
    "            raise NegativeNumberError(\"Cannot calculate the square root of a negative number.\")\n",
    "    except NegativeNumberError as err:\n",
    "        print(type(err).__name__ + \" => \" + str(err)) \n",
    "    else:\n",
    "        return math.sqrt(num)\n",
    "    \n",
    "custom_exception_square_root()"
   ]
  }
 ],
 "metadata": {
  "kernelspec": {
   "display_name": "Python 3",
   "language": "python",
   "name": "python3"
  },
  "language_info": {
   "codemirror_mode": {
    "name": "ipython",
    "version": 3
   },
   "file_extension": ".py",
   "mimetype": "text/x-python",
   "name": "python",
   "nbconvert_exporter": "python",
   "pygments_lexer": "ipython3",
   "version": "3.13.0"
  }
 },
 "nbformat": 4,
 "nbformat_minor": 4
}
