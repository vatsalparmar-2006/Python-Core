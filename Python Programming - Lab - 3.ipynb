{
 "cells": [
  {
   "cell_type": "markdown",
   "metadata": {},
   "source": [
    "\n",
    "<a href='https://www.darshan.ac.in/'> <img src='https://www.darshan.ac.in/Content/media/DU_Logo.svg' width=\"250\" height=\"300\"/></a>\n",
    "<pre>\n",
    "<center><b><h1>Python Programming - 2301CS404</b></center>\n",
    "<center><b><h1>Lab - 3</b></center>    \n",
    "<pre>"
   ]
  },
  {
   "cell_type": "markdown",
   "metadata": {},
   "source": [
    "# for and while loop"
   ]
  },
  {
   "cell_type": "markdown",
   "metadata": {},
   "source": [
    "### 01) WAP to print 1 to 10."
   ]
  },
  {
   "cell_type": "code",
   "execution_count": 2,
   "metadata": {},
   "outputs": [
    {
     "name": "stdout",
     "output_type": "stream",
     "text": [
      "1 2 3 4 5 6 7 8 9 10 11 12 13 14 15 16 17 18 19 20 21 22 23 24 25 26 27 28 29 30 31 32 33 34 35 36 37 38 39 40 41 42 43 44 45 46 47 48 49 50 51 52 53 54 55 56 57 58 59 60 61 62 63 64 65 66 67 68 69 70 71 72 73 74 75 76 77 78 79 80 81 82 83 84 85 86 87 88 89 90 91 92 93 94 95 96 97 98 99 100 "
     ]
    }
   ],
   "source": [
    "for i in range(1, 101) :\n",
    "    print(i , sep=' ', end=' ')"
   ]
  },
  {
   "cell_type": "markdown",
   "metadata": {},
   "source": [
    "### 02) WAP to print 1 to n."
   ]
  },
  {
   "cell_type": "code",
   "execution_count": 2,
   "metadata": {},
   "outputs": [
    {
     "name": "stdout",
     "output_type": "stream",
     "text": [
      "1 2 3 4 5 6 7 8 9 "
     ]
    }
   ],
   "source": [
    "n = int(input('Enter a number n ='))\n",
    "\n",
    "for i in range(1, n+1) :\n",
    "    print(i , sep=' ', end=' ')"
   ]
  },
  {
   "cell_type": "markdown",
   "metadata": {},
   "source": [
    "### 03) WAP to print odd numbers between 1 to n."
   ]
  },
  {
   "cell_type": "code",
   "execution_count": 6,
   "metadata": {},
   "outputs": [
    {
     "name": "stdout",
     "output_type": "stream",
     "text": [
      "Odd Numbers between 1 to 20 : 1 3 5 7 9 11 13 15 17 19 "
     ]
    }
   ],
   "source": [
    "n = int(input('Enter a number n ='))\n",
    "\n",
    "print(f\"Odd Numbers between 1 to {n} : \", end='')\n",
    "for i in range(1, n+1) :\n",
    "    if i%2 != 0 :\n",
    "        print(i , sep=' ', end=' ')"
   ]
  },
  {
   "cell_type": "markdown",
   "metadata": {},
   "source": [
    "### 04) WAP to print numbers between two given numbers which is divisible by 2 but not divisible by 3."
   ]
  },
  {
   "cell_type": "code",
   "execution_count": 9,
   "metadata": {},
   "outputs": [
    {
     "name": "stdout",
     "output_type": "stream",
     "text": [
      "Numbers which is divisible by 2 bt not divisible by 3 between 1 to 20 : 2 4 8 "
     ]
    }
   ],
   "source": [
    "n1 = int(input('Enter a first(start) number n1 ='))\n",
    "n2= int(input('Enter a second(end) number n2 ='))\n",
    "\n",
    "print(f\"Numbers which is divisible by 2 bt not divisible by 3 between 1 to {n} : \", end='')\n",
    "for i in range(n1, n2+1) :\n",
    "    if(i%2 == 0 and i%3 != 0) :\n",
    "        print(i , sep=' ', end=' ')\n"
   ]
  },
  {
   "cell_type": "markdown",
   "metadata": {},
   "source": [
    "### 05) WAP to print sum of 1 to n numbers."
   ]
  },
  {
   "cell_type": "code",
   "execution_count": 11,
   "metadata": {},
   "outputs": [
    {
     "name": "stdout",
     "output_type": "stream",
     "text": [
      "Sum of 1 to 5 numbers :  15"
     ]
    }
   ],
   "source": [
    "n = int(input('Enter a number n ='))\n",
    "\n",
    "sum = 0\n",
    "\n",
    "for i in range(1, n+1) :\n",
    "    sum += i\n",
    "\n",
    "print(f\"Sum of 1 to {n} numbers : \",sum,  end='')"
   ]
  },
  {
   "cell_type": "markdown",
   "metadata": {},
   "source": [
    "### 06) WAP to print sum of series 1 + 4 + 9 + 16 + 25 + 36 + ...n."
   ]
  },
  {
   "cell_type": "code",
   "execution_count": 3,
   "metadata": {},
   "outputs": [
    {
     "name": "stdout",
     "output_type": "stream",
     "text": [
      "The sum of series 1 + 4 + 9 + ...5th term :  55\n"
     ]
    }
   ],
   "source": [
    "n = int(input('Enter a number n ='))\n",
    "\n",
    "sum = 0\n",
    "\n",
    "for i in range(1, n+1) :\n",
    "    sum += (i**2)\n",
    "\n",
    "print(f\"The sum of series 1 + 4 + 9 + ...{n}th term : \",sum)"
   ]
  },
  {
   "cell_type": "markdown",
   "metadata": {},
   "source": [
    "### 07) WAP to print sum of series 1 – 2 + 3 – 4 + 5 – 6 + 7 ... n."
   ]
  },
  {
   "cell_type": "code",
   "execution_count": 6,
   "metadata": {},
   "outputs": [
    {
     "name": "stdout",
     "output_type": "stream",
     "text": [
      "The sum of series 1 - 2 + 3 - 4 +...10th term :  -5\n"
     ]
    }
   ],
   "source": [
    "n = int(input('Enter a number n ='))\n",
    "\n",
    "sum = 0\n",
    "\n",
    "for i in range(1, n+1) :\n",
    "    if i%2 == 0 :\n",
    "        sum -= i\n",
    "    else :\n",
    "        sum += i\n",
    "\n",
    "print(f\"The sum of series 1 - 2 + 3 - 4 +...{n}th term : \",sum)"
   ]
  },
  {
   "cell_type": "markdown",
   "metadata": {},
   "source": [
    "### 08) WAP to print multiplication table of given number."
   ]
  },
  {
   "cell_type": "code",
   "execution_count": 10,
   "metadata": {},
   "outputs": [
    {
     "name": "stdout",
     "output_type": "stream",
     "text": [
      "Multiplication Table for 11 :\n",
      "11 x 1 = 11\n",
      "11 x 2 = 22\n",
      "11 x 3 = 33\n",
      "11 x 4 = 44\n",
      "11 x 5 = 55\n",
      "11 x 6 = 66\n",
      "11 x 7 = 77\n",
      "11 x 8 = 88\n",
      "11 x 9 = 99\n",
      "11 x 10 = 110\n"
     ]
    }
   ],
   "source": [
    "n = int(input('Enter a number for multiplication table ='))\n",
    "\n",
    "print(f\"Multiplication Table for {n} :\")\n",
    "for i in range(1,11) :\n",
    "    print(f\"{n} x {i} = {n * i}\")\n"
   ]
  },
  {
   "cell_type": "markdown",
   "metadata": {},
   "source": [
    "### 09) WAP to find factorial of the given number."
   ]
  },
  {
   "cell_type": "code",
   "execution_count": 14,
   "metadata": {},
   "outputs": [
    {
     "name": "stdout",
     "output_type": "stream",
     "text": [
      "The factorial of 5 is : 120\n"
     ]
    }
   ],
   "source": [
    "n = int(input('Enter a number for factorial ='))\n",
    "\n",
    "ans = 1\n",
    "\n",
    "for i in range(1, n+1) :\n",
    "    ans *= i\n",
    "\n",
    "print(f\"The factorial of {n} is :\",ans)"
   ]
  },
  {
   "cell_type": "markdown",
   "metadata": {},
   "source": [
    "### 10) WAP to find factors of the given number."
   ]
  },
  {
   "cell_type": "code",
   "execution_count": null,
   "metadata": {},
   "outputs": [
    {
     "name": "stdout",
     "output_type": "stream",
     "text": [
      "The factor of 6 is : 1 2 3 6 \n"
     ]
    }
   ],
   "source": [
    "n = int(input('Enter a number for factor ='))\n",
    "\n",
    "ans = ''\n",
    "\n",
    "for i in range(1, n+1) :\n",
    "    if n%i == 0 :\n",
    "        ans += str(i) + ' '\n",
    "    \n",
    "print(f\"The factor of {n} is :\",ans)"
   ]
  },
  {
   "cell_type": "markdown",
   "metadata": {},
   "source": [
    "### 11) WAP to find whether the given number is prime or not."
   ]
  },
  {
   "cell_type": "code",
   "execution_count": null,
   "metadata": {},
   "outputs": [
    {
     "name": "stdout",
     "output_type": "stream",
     "text": [
      "5 is Prime number.\n"
     ]
    }
   ],
   "source": [
    "n = int(input('Enter a number for check to prime number ='))\n",
    "\n",
    "count = 0\n",
    "\n",
    "for i in range(2, (n+1)//2) :\n",
    "    if n%i == 0 :\n",
    "        count += 1\n",
    "        break\n",
    "    \n",
    "if count == 0 :\n",
    "    print(f\"{n} is Prime number.\")\n",
    "else :\n",
    "    print(f\"{n} is not Prime number.\")"
   ]
  },
  {
   "cell_type": "markdown",
   "metadata": {},
   "source": [
    "### 12) WAP to print sum of digits of given number."
   ]
  },
  {
   "cell_type": "code",
   "execution_count": 40,
   "metadata": {},
   "outputs": [
    {
     "name": "stdout",
     "output_type": "stream",
     "text": [
      "Sum of 121's digit : 4\n"
     ]
    }
   ],
   "source": [
    "n = int(input('Enter a number ='))\n",
    "\n",
    "temp = n\n",
    "\n",
    "sum = 0\n",
    "\n",
    "while n != 0 :\n",
    "    rem = n%10\n",
    "    sum += rem\n",
    "    n = n//10\n",
    "\n",
    "print(f\"Sum of {temp}'s digit :\",sum)"
   ]
  },
  {
   "cell_type": "markdown",
   "metadata": {},
   "source": [
    "### 13) WAP to check whether the given number is palindrome or not"
   ]
  },
  {
   "cell_type": "code",
   "execution_count": 45,
   "metadata": {},
   "outputs": [
    {
     "name": "stdout",
     "output_type": "stream",
     "text": [
      "121 is Paindrom number.\n"
     ]
    }
   ],
   "source": [
    "n = int(input('Enter a number for check to palindrom number ='))\n",
    "\n",
    "temp = n\n",
    "\n",
    "sum = 0\n",
    "\n",
    "while n != 0 :\n",
    "    rem = n%10\n",
    "    sum = (sum*10) + rem\n",
    "    n = n//10\n",
    "    \n",
    "if temp == sum :\n",
    "    print(f\"{temp} is Paindrom number.\")\n",
    "else :\n",
    "    print(f\"{temp} is not Paindrom number.\")"
   ]
  },
  {
   "cell_type": "markdown",
   "metadata": {},
   "source": [
    "### 14) WAP to print GCD of given two numbers."
   ]
  },
  {
   "cell_type": "code",
   "execution_count": 47,
   "metadata": {},
   "outputs": [
    {
     "name": "stdout",
     "output_type": "stream",
     "text": [
      "The GCD of 15 and 23 is : 1\n"
     ]
    }
   ],
   "source": [
    "import math\n",
    "\n",
    "n1 = int(input(\"Enter the first number: \"))\n",
    "n2 = int(input(\"Enter the second number: \"))\n",
    "\n",
    "gcd = math.gcd(n1,n2)\n",
    "\n",
    "print(f'The GCD of {n1} and {n2} is : {gcd}')"
   ]
  }
 ],
 "metadata": {
  "kernelspec": {
   "display_name": "Python 3",
   "language": "python",
   "name": "python3"
  },
  "language_info": {
   "codemirror_mode": {
    "name": "ipython",
    "version": 3
   },
   "file_extension": ".py",
   "mimetype": "text/x-python",
   "name": "python",
   "nbconvert_exporter": "python",
   "pygments_lexer": "ipython3",
   "version": "3.13.0"
  }
 },
 "nbformat": 4,
 "nbformat_minor": 4
}
