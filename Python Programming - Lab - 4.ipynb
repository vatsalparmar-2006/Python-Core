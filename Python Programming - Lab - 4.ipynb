{
 "cells": [
  {
   "cell_type": "markdown",
   "metadata": {},
   "source": [
    "\n",
    "<a href='https://www.darshan.ac.in/'> <img src='https://www.darshan.ac.in/Content/media/DU_Logo.svg' width=\"250\" height=\"300\"/></a>\n",
    "<pre>\n",
    "<center><b><h1>Python Programming - 2301CS404</b></center>\n",
    "<center><b><h1>Lab - 4</b></center>    \n",
    "<pre>"
   ]
  },
  {
   "cell_type": "markdown",
   "metadata": {},
   "source": [
    "# String"
   ]
  },
  {
   "cell_type": "markdown",
   "metadata": {},
   "source": [
    "### 01) WAP to check whether the given string is palindrome or not."
   ]
  },
  {
   "cell_type": "code",
   "execution_count": 3,
   "metadata": {},
   "outputs": [
    {
     "name": "stdout",
     "output_type": "stream",
     "text": [
      "String is Palindrom.\n"
     ]
    }
   ],
   "source": [
    "str = input('Enter a string :')\n",
    "if ( str.lower() == str[::-1].lower()) :\n",
    "    print('String is Palindrom.')\n",
    "else :\n",
    "    print('String is not Palindrom.')"
   ]
  },
  {
   "cell_type": "markdown",
   "metadata": {},
   "source": [
    "### 02) WAP to reverse the words in the given string."
   ]
  },
  {
   "cell_type": "code",
   "execution_count": 9,
   "metadata": {},
   "outputs": [
    {
     "name": "stdout",
     "output_type": "stream",
     "text": [
      "Reversed Words : Parmar Vatsal\n"
     ]
    }
   ],
   "source": [
    "str = input('Enter a string :')\n",
    "words = str.split()\n",
    "ans = ' '.join(reversed(words))\n",
    "\n",
    "print('Reversed Words :',ans)"
   ]
  },
  {
   "cell_type": "markdown",
   "metadata": {},
   "source": [
    "### 03) WAP to remove ith character from given string."
   ]
  },
  {
   "cell_type": "code",
   "execution_count": 10,
   "metadata": {},
   "outputs": [
    {
     "name": "stdout",
     "output_type": "stream",
     "text": [
      "Updated String : Pthon\n"
     ]
    }
   ],
   "source": [
    "str = input('Enter a string :')\n",
    "index = int(input('Enter a index of character which you want to remove from string :'))\n",
    "\n",
    "if 0 <= index < len(str) :\n",
    "    str = str[:index] + str[index+1:]\n",
    "    print(\"Updated String :\",str)\n",
    "else :\n",
    "    print(\"Index Invalid!!\")"
   ]
  },
  {
   "cell_type": "markdown",
   "metadata": {},
   "source": [
    "### 04) WAP to find length of string without using len function."
   ]
  },
  {
   "cell_type": "code",
   "execution_count": 12,
   "metadata": {},
   "outputs": [
    {
     "name": "stdout",
     "output_type": "stream",
     "text": [
      "Length of given string is 6\n"
     ]
    }
   ],
   "source": [
    "str = input('Enter a string :')\n",
    "\n",
    "count = 0\n",
    "for i in str :\n",
    "    count = count + 1\n",
    "\n",
    "print('Length of given string is',count)"
   ]
  },
  {
   "cell_type": "markdown",
   "metadata": {},
   "source": [
    "### 05) WAP to print even length word in string."
   ]
  },
  {
   "cell_type": "code",
   "execution_count": 2,
   "metadata": {},
   "outputs": [
    {
     "name": "stdout",
     "output_type": "stream",
     "text": [
      "Vatsal\n"
     ]
    }
   ],
   "source": [
    "str = input('Enter a string :')\n",
    "\n",
    "str1 = str.split()\n",
    "\n",
    "for i in str1 :\n",
    "    if len(i)%2 == 0 :\n",
    "        print(i)\n"
   ]
  },
  {
   "cell_type": "markdown",
   "metadata": {},
   "source": [
    "### 06) WAP to count numbers of vowels in given string."
   ]
  },
  {
   "cell_type": "code",
   "execution_count": 5,
   "metadata": {},
   "outputs": [
    {
     "name": "stdout",
     "output_type": "stream",
     "text": [
      "Number of vowel in given string is 3\n"
     ]
    }
   ],
   "source": [
    "str = input('Enter a string :')\n",
    "\n",
    "vowelStr = 'aeiouAEIOU'\n",
    "\n",
    "count = 0\n",
    "for i in str :\n",
    "    if i in vowelStr :\n",
    "        count = count + 1 \n",
    "\n",
    "print('Number of vowel in given string is',count)"
   ]
  },
  {
   "cell_type": "markdown",
   "metadata": {},
   "source": [
    "### 07) WAP to capitalize the first and last character of each word in a string."
   ]
  },
  {
   "cell_type": "code",
   "execution_count": 10,
   "metadata": {},
   "outputs": [
    {
     "name": "stdout",
     "output_type": "stream",
     "text": [
      " VatsaT ParmaR\n"
     ]
    }
   ],
   "source": [
    "str = input('Enter a string :')\n",
    "\n",
    "str = str.split()\n",
    "\n",
    "newWord = \"\"\n",
    "for word in str :\n",
    "    newWord = newWord + \" \" + word[:1].upper() + word[1:len(word)-1] + word[len(str)].upper()\n",
    "\n",
    "print(newWord)\n"
   ]
  },
  {
   "cell_type": "markdown",
   "metadata": {},
   "source": [
    "### 08) WAP to convert given array to string."
   ]
  },
  {
   "cell_type": "code",
   "execution_count": 12,
   "metadata": {},
   "outputs": [
    {
     "name": "stdout",
     "output_type": "stream",
     "text": [
      "Vatsal\n"
     ]
    }
   ],
   "source": [
    "arr = ['V', 'a', 't', 's', 'a', 'l']\n",
    "\n",
    "str = ''\n",
    "\n",
    "for i in arr :\n",
    "    str = str + i\n",
    "\n",
    "print(str)"
   ]
  },
  {
   "cell_type": "markdown",
   "metadata": {},
   "source": [
    "### 09) Check if the password and confirm password is same or not. \n",
    "### In case of only case's mistake, show the error message."
   ]
  },
  {
   "cell_type": "code",
   "execution_count": 16,
   "metadata": {},
   "outputs": [
    {
     "name": "stdout",
     "output_type": "stream",
     "text": [
      "Error : Only Case's mistake\n"
     ]
    }
   ],
   "source": [
    "password = input('Enter a password :')\n",
    "confirmPassword = input('Enter a confirm Password :')\n",
    "\n",
    "if(password.lower() == confirmPassword.lower()) :\n",
    "    if(password == confirmPassword) :\n",
    "        print('Your password is correct.')\n",
    "    else  :\n",
    "        print(\"Error : Only Case's mistake\")\n",
    "else :\n",
    "    print('Opps!! Password is incorrect.')"
   ]
  },
  {
   "cell_type": "markdown",
   "metadata": {},
   "source": [
    "### 10) : Display credit card number. \n",
    "### card no. : 1234 5678 9012 3456\n",
    "### display as  : **** **** **** 3456"
   ]
  },
  {
   "cell_type": "code",
   "execution_count": 6,
   "metadata": {},
   "outputs": [
    {
     "name": "stdout",
     "output_type": "stream",
     "text": [
      "Display as : **** **** **** 3456\n"
     ]
    }
   ],
   "source": [
    "cardNumber = (input('Enter a credit card number :'))\n",
    "\n",
    "if(len(cardNumber.replace(' ','')) == 16) :\n",
    "    cardNumber = cardNumber.split()\n",
    "    displayNumberList = [\"****\", \"****\", \"****\", cardNumber[-1]]\n",
    "else :\n",
    "    print(\"Incorect Credit card number. Pls enter 16 digit's number\")\n",
    "\n",
    "displayNumber = ' '.join(displayNumberList)\n",
    "print('Display as :',displayNumber)"
   ]
  },
  {
   "cell_type": "markdown",
   "metadata": {},
   "source": [
    "### 11) : Checking if the two strings are Anagram or not.\n",
    "### s1 = decimal and s2 = medical are Anagram"
   ]
  },
  {
   "cell_type": "code",
   "execution_count": 13,
   "metadata": {},
   "outputs": [
    {
     "name": "stdout",
     "output_type": "stream",
     "text": [
      "The strings are Anagram.\n"
     ]
    }
   ],
   "source": [
    "str1 = input('Enter a first string :').lower()\n",
    "str2 = input('Enter a second string :').lower()\n",
    "\n",
    "isAnagram = True\n",
    "\n",
    "if(len(str1) == len(str2)) :\n",
    "    for i in str1 :\n",
    "        if i not in str2 :\n",
    "            isAnagram = False\n",
    "            print('The strings are not Anagram.')\n",
    "    if(isAnagram) :\n",
    "        print('The strings are Anagram.')\n",
    "else :\n",
    "    print('The strings are not Anagram.')"
   ]
  },
  {
   "cell_type": "markdown",
   "metadata": {},
   "source": [
    "### 12) : Rearrange the given string. First lowercase then uppercase alphabets.\n",
    "### input : EHlsarwiwhtwMV\n",
    "### output : lsarwiwhtwEHMV"
   ]
  },
  {
   "cell_type": "code",
   "execution_count": 14,
   "metadata": {},
   "outputs": [
    {
     "name": "stdout",
     "output_type": "stream",
     "text": [
      "lsarwiwhtwEHMV\n"
     ]
    }
   ],
   "source": [
    "str = 'EHlsarwiwhtwMV'\n",
    "\n",
    "lower = ''\n",
    "upper = ''\n",
    "\n",
    "for i in str :\n",
    "    if(i.islower()) :\n",
    "        lower += i\n",
    "    else :\n",
    "        upper += i\n",
    "\n",
    "output = lower + upper\n",
    "print(output)"
   ]
  }
 ],
 "metadata": {
  "kernelspec": {
   "display_name": "Python 3",
   "language": "python",
   "name": "python3"
  },
  "language_info": {
   "codemirror_mode": {
    "name": "ipython",
    "version": 3
   },
   "file_extension": ".py",
   "mimetype": "text/x-python",
   "name": "python",
   "nbconvert_exporter": "python",
   "pygments_lexer": "ipython3",
   "version": "3.13.0"
  }
 },
 "nbformat": 4,
 "nbformat_minor": 4
}
