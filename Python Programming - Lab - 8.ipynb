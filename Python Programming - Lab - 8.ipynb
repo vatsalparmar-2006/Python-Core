{
 "cells": [
  {
   "cell_type": "markdown",
   "metadata": {},
   "source": [
    "<a href='https://www.darshan.ac.in/'> <img src='https://www.darshan.ac.in/Content/media/DU_Logo.svg' width=\"250\" height=\"300\"/></a>\n",
    "<pre>\n",
    "<center><b><h1>Python Programming - 2301CS404</b></center>\n",
    "<center><b><h1>Lab - 8</b></center>    \n",
    "<pre>"
   ]
  },
  {
   "cell_type": "markdown",
   "metadata": {},
   "source": [
    "# User Defined Function"
   ]
  },
  {
   "cell_type": "markdown",
   "metadata": {},
   "source": [
    "### 01) Write a function to calculate BMI given mass and height. (BMI = mass/h**2)"
   ]
  },
  {
   "cell_type": "code",
   "execution_count": 2,
   "metadata": {},
   "outputs": [
    {
     "name": "stdout",
     "output_type": "stream",
     "text": [
      "The BMI is: 22.857142857142858\n"
     ]
    }
   ],
   "source": [
    "def calculate_BMI(mass, height):\n",
    "    bmi = mass / (height**2)\n",
    "    return bmi\n",
    "\n",
    "bmi = calculate_BMI(70, 1.75)\n",
    "print(f\"The BMI is: {bmi}\")"
   ]
  },
  {
   "cell_type": "markdown",
   "metadata": {},
   "source": [
    "### 02) Write a function that add first n numbers."
   ]
  },
  {
   "cell_type": "code",
   "execution_count": 6,
   "metadata": {},
   "outputs": [
    {
     "name": "stdout",
     "output_type": "stream",
     "text": [
      "sum of first 5 numbers : 15\n"
     ]
    }
   ],
   "source": [
    "def add_first_numbers(n):\n",
    "    return (n*(n+1)//2)\n",
    "\n",
    "n = 5\n",
    "print(f\"sum of first {n} numbers :\",add_first_numbers(n))"
   ]
  },
  {
   "cell_type": "markdown",
   "metadata": {},
   "source": [
    "### 03) Write a function that returns 1 if the given number is Prime or 0 otherwise."
   ]
  },
  {
   "cell_type": "code",
   "execution_count": 11,
   "metadata": {},
   "outputs": [
    {
     "name": "stdout",
     "output_type": "stream",
     "text": [
      "5 is Prime number\n"
     ]
    }
   ],
   "source": [
    "def check_prime(n):\n",
    "    for i in range(2, n):\n",
    "        if n%i==0:\n",
    "            return 0\n",
    "        else:\n",
    "            return 1\n",
    "        \n",
    "if check_prime(5)==1:\n",
    "    print(f\"{n} is Prime number\")\n",
    "else :\n",
    "    print(f\"{n} is non prime number\")"
   ]
  },
  {
   "cell_type": "markdown",
   "metadata": {},
   "source": [
    "### 04) Write a function that returns the list of Prime numbers between given two numbers."
   ]
  },
  {
   "cell_type": "code",
   "execution_count": 44,
   "metadata": {},
   "outputs": [
    {
     "name": "stdout",
     "output_type": "stream",
     "text": [
      "Prime numbers between 10 and 50: [11, 13, 17, 19, 23, 29, 31, 37, 41, 43, 47]\n"
     ]
    }
   ],
   "source": [
    "def prime_in_range(start, end):\n",
    "    def is_prime(n):\n",
    "        if n<=1:\n",
    "            return False\n",
    "        for i in range(2, int(n**0.5)+1):\n",
    "            if n%i==0:\n",
    "                return False\n",
    "        return True\n",
    "    \n",
    "    return [n for n in range(start, end+1) if is_prime(n)]\n",
    "\n",
    "start= 10\n",
    "end = 50\n",
    "primes = prime_in_range(start, end)\n",
    "print(f\"Prime numbers between {start} and {end}: {primes}\")"
   ]
  },
  {
   "cell_type": "markdown",
   "metadata": {},
   "source": [
    "### 05) Write a function that returns True if the given string is Palindrome or False otherwise."
   ]
  },
  {
   "cell_type": "code",
   "execution_count": 2,
   "metadata": {},
   "outputs": [
    {
     "name": "stdout",
     "output_type": "stream",
     "text": [
      "False\n"
     ]
    }
   ],
   "source": [
    "def palindrom_strin(str):\n",
    "    if str.lower == str[::-1].lower():\n",
    "        return True\n",
    "    else:\n",
    "        return False\n",
    "    \n",
    "str = 'lal'\n",
    "print(palindrom_strin(str))"
   ]
  },
  {
   "cell_type": "markdown",
   "metadata": {},
   "source": [
    "### 06) Write a function that returns the sum of all the elements of the list."
   ]
  },
  {
   "cell_type": "code",
   "execution_count": 10,
   "metadata": {},
   "outputs": [
    {
     "name": "stdout",
     "output_type": "stream",
     "text": [
      "List : [2, 9, 4, 1, 5, 8, 3]\n",
      "sum of list's element : 32\n"
     ]
    }
   ],
   "source": [
    "def list_sum_elements(li):\n",
    "    return sum(li)\n",
    "\n",
    "li = [2,9,4,1,5,8,3]\n",
    "print('List :',li)\n",
    "print(f\"sum of list's element :\",list_sum_elements(li))"
   ]
  },
  {
   "cell_type": "markdown",
   "metadata": {},
   "source": [
    "### 07) Write a function to calculate the sum of the first element of each tuples inside the list."
   ]
  },
  {
   "cell_type": "code",
   "execution_count": 3,
   "metadata": {},
   "outputs": [
    {
     "name": "stdout",
     "output_type": "stream",
     "text": [
      "TupleList: [(2, 3), (5, 6), (8, 9)]\n",
      "Requirement: 15\n"
     ]
    }
   ],
   "source": [
    "def sum_first_elements(tuple_list):\n",
    "    return sum(t[0] for t in tuple_list)\n",
    "\n",
    "tuples_list = [(2, 3), (5, 6), (8, 9)]\n",
    "print('TupleList:',tuples_list)\n",
    "print(f\"Requirement: {sum_first_elements(tuples_list)}\") "
   ]
  },
  {
   "cell_type": "markdown",
   "metadata": {},
   "source": [
    "### 08) Write a recursive function to find nth term of Fibonacci Series."
   ]
  },
  {
   "cell_type": "code",
   "execution_count": 5,
   "metadata": {},
   "outputs": [
    {
     "name": "stdout",
     "output_type": "stream",
     "text": [
      "The 6th term in the Fibonacci series is: 5\n"
     ]
    }
   ],
   "source": [
    "def recursive_fibonacci(n):\n",
    "    if n==0 or n==1 :\n",
    "        return 0\n",
    "    elif n==2 :\n",
    "        return 1\n",
    "    else:\n",
    "        return recursive_fibonacci(n-1) + recursive_fibonacci(n-2)\n",
    "\n",
    "n = 6\n",
    "print(f\"The {n}th term in the Fibonacci series is: {recursive_fibonacci(n)}\") "
   ]
  },
  {
   "cell_type": "markdown",
   "metadata": {},
   "source": [
    "### 09) Write a function to get the name of the student based on the given rollno.\n",
    "#### Example: Given dict1 = {101:'Ajay', 102:'Rahul', 103:'Jay', 104:'Pooja'} find name of student whose rollno = 103"
   ]
  },
  {
   "cell_type": "code",
   "execution_count": 16,
   "metadata": {},
   "outputs": [
    {
     "name": "stdout",
     "output_type": "stream",
     "text": [
      "Dictionary : {101: 'Ajay', 102: 'Rahul', 103: 'Jay', 104: 'Pooja'}\n",
      "Key : 103\n",
      "Name : Jay\n"
     ]
    }
   ],
   "source": [
    "def search_name_by_rollno(key):\n",
    "    for i in dict9:\n",
    "        if i==key:\n",
    "            return dict9[i]\n",
    "    \n",
    "dict9 = {101:'Ajay', 102:'Rahul', 103:'Jay', 104:'Pooja'}\n",
    "print('Dictionary :',dict9)\n",
    "key = 103\n",
    "print('Key :',key)\n",
    "print('Name :',search_name_by_rollno(key))\n"
   ]
  },
  {
   "cell_type": "markdown",
   "metadata": {},
   "source": [
    "### 10) Write a function to get the sum of the scores ending with zero.\n",
    "#### Example : scores = [200, 456, 300, 100, 234, 678] \n",
    "#### Ans = 200 + 300 + 100 = 600"
   ]
  },
  {
   "cell_type": "code",
   "execution_count": 13,
   "metadata": {},
   "outputs": [
    {
     "name": "stdout",
     "output_type": "stream",
     "text": [
      "scoresList : [200, 456, 300, 100, 234, 678]\n",
      "Sum of scores ending with zero : 600\n"
     ]
    }
   ],
   "source": [
    "def sum_ending_zero(scoresList):\n",
    "    sum = 0\n",
    "    for i in scoresList:\n",
    "        if i%10==0 :\n",
    "            sum += i\n",
    "    return sum\n",
    "\n",
    "scoresList = [200, 456, 300, 100, 234, 678]\n",
    "print('scoresList :',scoresList)\n",
    "print(f\"Sum of scores ending with zero :\", sum_ending_zero(scoresList))"
   ]
  },
  {
   "cell_type": "markdown",
   "metadata": {},
   "source": [
    "### 11) Write a function to invert a given Dictionary.\n",
    "#### hint: keys to values & values to keys\n",
    "#### Before : {'a': 10, 'b':20, 'c':30, 'd':40}\n",
    "#### After : {10:'a', 20:'b', 30:'c', 40:'d'}"
   ]
  },
  {
   "cell_type": "code",
   "execution_count": 14,
   "metadata": {},
   "outputs": [
    {
     "name": "stdout",
     "output_type": "stream",
     "text": [
      "Before Swap : {'a': 10, 'b': 20, 'c': 30, 'd': 40}\n",
      "After Swap : {10: 'a', 20: 'b', 30: 'c', 40: 'd'}\n"
     ]
    }
   ],
   "source": [
    "def swap_keys_values(dict11):\n",
    "    newDict = {}\n",
    "    for i,j in dict11.items() :\n",
    "        newDict[j] = i\n",
    "    return newDict\n",
    "\n",
    "dict11 = {'a': 10, 'b':20, 'c':30, 'd':40}\n",
    "print('Before Swap :',dict11)\n",
    "print('After Swap :', swap_keys_values(dict11))"
   ]
  },
  {
   "cell_type": "markdown",
   "metadata": {},
   "source": [
    "### 12) Write a function to check whether the given string is Pangram or not.\n",
    "#### hint: Pangram is a string containing all the characters a-z atlest once.\n",
    "#### \"the quick brown fox jumps over the lazy dog\" is a Pangram string."
   ]
  },
  {
   "cell_type": "code",
   "execution_count": 41,
   "metadata": {},
   "outputs": [
    {
     "name": "stdout",
     "output_type": "stream",
     "text": [
      "String : the quick brown fox jumps over the lazy dog.\n",
      "Given string is Pangram.\n"
     ]
    }
   ],
   "source": [
    "def pangram_string(str12):\n",
    "    alphabets = set('abcdefghijklmnopqrstuvwxyz')\n",
    "    input = set(str12.lower())\n",
    "    return alphabets.issubset(input)\n",
    "\n",
    "str12 = \"the quick brown fox jumps over the lazy dog.\"\n",
    "print('String :',str12)\n",
    "\n",
    "if pangram_string(str12):\n",
    "    print('Given string is Pangram.')\n",
    "else:\n",
    "    print('Given string is not Pangram.')"
   ]
  },
  {
   "cell_type": "markdown",
   "metadata": {},
   "source": [
    "### 13) Write a function that returns the number of uppercase and lowercase letters in the given string. \n",
    "#### example : Input : s1 = AbcDEfgh ,Ouptput : no_upper = 3, no_lower = 5"
   ]
  },
  {
   "cell_type": "code",
   "execution_count": 24,
   "metadata": {},
   "outputs": [
    {
     "name": "stdout",
     "output_type": "stream",
     "text": [
      "String : AbcDEfgh\n",
      "Lower character: 5 \n",
      "Upper character: 3\n"
     ]
    }
   ],
   "source": [
    "def count_uppercase_lowercase(s1):\n",
    "    lower_count = 0\n",
    "    upper_count = 0\n",
    "    for i in s1:\n",
    "        if i.islower() :\n",
    "            lower_count += 1\n",
    "        else :\n",
    "            upper_count += 1\n",
    "    return lower_count, upper_count\n",
    "\n",
    "s1 = 'AbcDEfgh'\n",
    "print('String :',s1)\n",
    "a,b = count_uppercase_lowercase(s1)\n",
    "print(f\"Lower character: {a} \\nUpper character: {b}\")"
   ]
  },
  {
   "cell_type": "markdown",
   "metadata": {},
   "source": [
    "### 14) Write a lambda function to get smallest number from the given two numbers."
   ]
  },
  {
   "cell_type": "code",
   "execution_count": 18,
   "metadata": {},
   "outputs": [
    {
     "name": "stdout",
     "output_type": "stream",
     "text": [
      "Smallest number from 15 and 25 : 15\n"
     ]
    }
   ],
   "source": [
    "smallestNumber = lambda a,b : b if(a>b) else a\n",
    "\n",
    "a = 15\n",
    "b = 25\n",
    "print(f\"Smallest number from {a} and {b} :\",smallestNumber(a,b))"
   ]
  },
  {
   "cell_type": "markdown",
   "metadata": {},
   "source": [
    "### 15) For the given list of names of students, extract the names having more that 7 characters. Use filter()."
   ]
  },
  {
   "cell_type": "code",
   "execution_count": 31,
   "metadata": {},
   "outputs": [
    {
     "name": "stdout",
     "output_type": "stream",
     "text": [
      "List : ['rohit', 'rahul', 'kohli', 'shreyash', 'pant']\n",
      "requireNames : ['shreyash']\n"
     ]
    }
   ],
   "source": [
    "li15 = ['rohit', 'rahul', 'kohli', 'shreyash', 'pant']\n",
    "print('List :',li15)\n",
    "\n",
    "requireNames = list(filter(lambda i : len(i)>7 , li15))\n",
    "print('requireNames :',requireNames)"
   ]
  },
  {
   "cell_type": "markdown",
   "metadata": {},
   "source": [
    "### 16) For the given list of names of students, convert the first letter of all the names into uppercase. use map()."
   ]
  },
  {
   "cell_type": "code",
   "execution_count": 34,
   "metadata": {},
   "outputs": [
    {
     "name": "stdout",
     "output_type": "stream",
     "text": [
      "List : ['rohit', 'rahul', 'kohli', 'shreyash', 'pant']\n",
      "requireList : ['Rohit', 'Rahul', 'Kohli', 'Shreyash', 'Pant']\n"
     ]
    }
   ],
   "source": [
    "li16 = ['rohit', 'rahul', 'kohli', 'shreyash', 'pant']\n",
    "print('List :',li16)\n",
    "\n",
    "requireList = list(map(lambda str : str.capitalize(), li16))\n",
    "print('requireList :',requireList)"
   ]
  },
  {
   "cell_type": "markdown",
   "metadata": {},
   "source": [
    "### 17) Write udfs to call the functions with following types of arguments:\n",
    "1. Positional Arguments\n",
    "2. Keyword Arguments\n",
    "3. Default Arguments\n",
    "4. Variable Legngth Positional(*args) & variable length Keyword Arguments (**kwargs)\n",
    "5. Keyword-Only & Positional Only Arguments"
   ]
  },
  {
   "cell_type": "code",
   "execution_count": 39,
   "metadata": {},
   "outputs": [
    {
     "name": "stdout",
     "output_type": "stream",
     "text": [
      "Positional Arguments : Arg1: 10, Agr2: 20\n",
      "Keyword Arguments : Arg1: 15, Arg2: 30\n",
      "Default Arguments : Arg1: 10, Arg2: 50 Default Arguments : Arg1: 10, Arg2: 60\n",
      "Positional: (1, 2, 3), Keyword: {'name': 'Alice', 'age': 25}\n",
      "Positional-Only: 10, Mixed: 20, Keyword-Only: 30\n"
     ]
    }
   ],
   "source": [
    "# Positional Arguments\n",
    "def positional_arguments(arg1, arg2):\n",
    "    return f\"Positional Arguments : Arg1: {arg1}, Agr2: {arg2}\"\n",
    "ans1= positional_arguments(10, 20)\n",
    "print(ans1)\n",
    "\n",
    "\n",
    "# Keyword Arguments\n",
    "def keyword_args(arg1, arg2):\n",
    "    return f\"Keyword Arguments : Arg1: {arg1}, Arg2: {arg2}\"\n",
    "ans2 = keyword_args(arg2=30, arg1=15)\n",
    "print(ans2)\n",
    "\n",
    "\n",
    "# Default Arguments\n",
    "def default_args(arg1, arg2=50):\n",
    "    return f\"Default Arguments : Arg1: {arg1}, Arg2: {arg2}\"\n",
    "ans3_1 = default_args(10)  # Uses default for arg2\n",
    "ans3_2 = default_args(10, 60)  # Overrides default for arg2\n",
    "print(ans3_1, ans3_2)\n",
    "\n",
    "\n",
    "# Variable Legngth Positional(*args) & variable length Keyword Arguments (**kwargs)\n",
    "def var_length_args(*args, **kwargs):\n",
    "    return f\"Positional: {args}, Keyword: {kwargs}\"\n",
    "result = var_length_args(1, 2, 3, name=\"Alice\", age=25)\n",
    "print(result)\n",
    "\n",
    "\n",
    "# Keyword-Only & Positional Only Arguments\n",
    "def mixed_args(arg1, /, arg2, *, arg3):\n",
    "    return f\"Positional-Only: {arg1}, Mixed: {arg2}, Keyword-Only: {arg3}\"\n",
    "result = mixed_args(10, arg2=20, arg3=30)\n",
    "print(result)\n"
   ]
  }
 ],
 "metadata": {
  "kernelspec": {
   "display_name": "Python 3",
   "language": "python",
   "name": "python3"
  },
  "language_info": {
   "codemirror_mode": {
    "name": "ipython",
    "version": 3
   },
   "file_extension": ".py",
   "mimetype": "text/x-python",
   "name": "python",
   "nbconvert_exporter": "python",
   "pygments_lexer": "ipython3",
   "version": "3.13.0"
  }
 },
 "nbformat": 4,
 "nbformat_minor": 4
}
