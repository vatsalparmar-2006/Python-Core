{
 "cells": [
  {
   "cell_type": "markdown",
   "metadata": {},
   "source": [
    "<a href='https://www.darshan.ac.in/'> <img src='https://www.darshan.ac.in/Content/media/DU_Logo.svg' width=\"250\" height=\"300\"/></a>\n",
    "<pre>\n",
    "<center><b><h1>Python Programming - 2301CS404</b></center>\n",
    "<center><b><h1>Lab - 9</b></center>    \n",
    "<pre>"
   ]
  },
  {
   "cell_type": "markdown",
   "metadata": {},
   "source": [
    "# File I/O"
   ]
  },
  {
   "cell_type": "markdown",
   "metadata": {},
   "source": [
    "### 01) WAP to read and display the contents of a text file. (also try to open the file in some other directory) \n",
    "#### - in the form of a string\n",
    "#### - line by line\n",
    "#### - in the form of a list"
   ]
  },
  {
   "cell_type": "code",
   "execution_count": 3,
   "metadata": {},
   "outputs": [
    {
     "name": "stdout",
     "output_type": "stream",
     "text": [
      "Hello World!!\n",
      "I am innocent person from India.\n",
      "India is very big Country.   class: <class 'str'>\n",
      "----------------\n",
      "Hello World!!\n",
      "I am innocent person from India.\n",
      "India is very big Country.   class: <class 'str'>\n",
      "----------------\n",
      "['Hello World!!\\n', 'I am innocent person from India.\\n', 'India is very big Country.']   class: <class 'list'>\n"
     ]
    }
   ],
   "source": [
    "fp = open('file1.txt', 'r')\n",
    "data = fp.read()\n",
    "print(f\"{data}   class: {type(data)}\")\n",
    "fp.close()\n",
    "\n",
    "print('----------------')\n",
    "\n",
    "fp = open('file1.txt', 'r')\n",
    "data = fp.read()\n",
    "print(f\"{data}   class: {type(data)}\")\n",
    "fp.close()\n",
    "\n",
    "print('----------------')\n",
    "\n",
    "fp = open('file1.txt', 'r')\n",
    "data = fp.readlines()\n",
    "print(f\"{data}   class: {type(data)}\")\n",
    "fp.close()"
   ]
  },
  {
   "cell_type": "markdown",
   "metadata": {},
   "source": [
    "### 02) WAP to create file named \"new.txt\" only if it doesn't exist."
   ]
  },
  {
   "cell_type": "code",
   "execution_count": 5,
   "metadata": {},
   "outputs": [],
   "source": [
    "fp = open('new.txt', 'w')   \n",
    "fp.write('New file created with name new.txt')\n",
    "fp.close()"
   ]
  },
  {
   "cell_type": "markdown",
   "metadata": {},
   "source": [
    "### 03) WAP to read first 5 lines from the text file."
   ]
  },
  {
   "cell_type": "code",
   "execution_count": 10,
   "metadata": {},
   "outputs": [
    {
     "name": "stdout",
     "output_type": "stream",
     "text": [
      "Greeting Words,\n",
      "Hello\n",
      "Hi\n",
      "Hey\n",
      "Greetings\n"
     ]
    }
   ],
   "source": [
    "fp = open('file3.txt')\n",
    "for i in range(0,5):\n",
    "    data = fp.readline()\n",
    "    print(data, end='')\n",
    "fp.close()\n"
   ]
  },
  {
   "cell_type": "markdown",
   "metadata": {},
   "source": [
    "### 04) WAP to find the longest word(s) in a file"
   ]
  },
  {
   "cell_type": "code",
   "execution_count": 34,
   "metadata": {},
   "outputs": [
    {
     "name": "stdout",
     "output_type": "stream",
     "text": [
      "Longest Word: Greetings\n",
      "Length: 9\n"
     ]
    }
   ],
   "source": [
    "fp = open('file3.txt')\n",
    "longest_word = ''\n",
    "for i in fp:\n",
    "    words = i.split()\n",
    "    for j in words:\n",
    "        if(len(j) > len(longest_word)):\n",
    "            longest_word = j\n",
    "fp.close()\n",
    "print('Longest Word:',longest_word)\n",
    "print('Length:',len(longest_word))"
   ]
  },
  {
   "cell_type": "markdown",
   "metadata": {},
   "source": [
    "### 05) WAP to count the no. of lines, words and characters in a given text file."
   ]
  },
  {
   "cell_type": "code",
   "execution_count": 36,
   "metadata": {},
   "outputs": [
    {
     "name": "stdout",
     "output_type": "stream",
     "text": [
      "no. of lines: 6\n",
      "no. of words: 7\n",
      "no. of charaters: 7\n"
     ]
    }
   ],
   "source": [
    "count_lines = 0\n",
    "count_words = 0\n",
    "count_characters = 0\n",
    "\n",
    "fp = open('file3.txt')\n",
    "data = fp.readlines()\n",
    "for i in data:\n",
    "    count_lines += 1\n",
    "    for j in i.split():\n",
    "        count_words += 1\n",
    "        for k in j.split():\n",
    "            count_characters += 1\n",
    "fp.close()\n",
    "print('no. of lines:',count_lines)\n",
    "print('no. of words:',count_words)\n",
    "print('no. of charaters:',count_characters)"
   ]
  },
  {
   "cell_type": "markdown",
   "metadata": {},
   "source": [
    "### 06) WAP to copy the content of a file to the another file."
   ]
  },
  {
   "cell_type": "code",
   "execution_count": 44,
   "metadata": {},
   "outputs": [
    {
     "name": "stdout",
     "output_type": "stream",
     "text": [
      "File Copied.\n"
     ]
    }
   ],
   "source": [
    "fp = open('file6.txt', 'r')\n",
    "data = fp.read()\n",
    "fp1 = open('COPYfile6.txt', 'w')\n",
    "fp1.write(data)\n",
    "fp.close()\n",
    "fp1.close()\n",
    "print('File Copied.')"
   ]
  },
  {
   "cell_type": "markdown",
   "metadata": {},
   "source": [
    "### 07) WAP to find the size of the text file. "
   ]
  },
  {
   "cell_type": "code",
   "execution_count": 41,
   "metadata": {},
   "outputs": [
    {
     "name": "stdout",
     "output_type": "stream",
     "text": [
      "Hello Python\n",
      "Hi Students\n",
      "----------\n",
      "lenght of text file: 24\n"
     ]
    }
   ],
   "source": [
    "fp = open('file7.txt', 'r')\n",
    "data = fp.read()\n",
    "print(data)\n",
    "print('----------')\n",
    "print('lenght of text file:',len(data))\n",
    "fp.close()"
   ]
  },
  {
   "cell_type": "markdown",
   "metadata": {},
   "source": [
    "### 08) WAP to create an UDF named frequency to count occurances of the specific word in a given text file."
   ]
  },
  {
   "cell_type": "code",
   "execution_count": 58,
   "metadata": {},
   "outputs": [
    {
     "name": "stdout",
     "output_type": "stream",
     "text": [
      "Hello word which is occur 2 time(s).\n"
     ]
    }
   ],
   "source": [
    "def frequency(specific_word):\n",
    "    count = 0\n",
    "    fp = open('file7.txt')\n",
    "    data = fp.readlines()\n",
    "    for i in data:\n",
    "        for j in i.split():\n",
    "            if j==specific_word:\n",
    "                count += 1\n",
    "    return count\n",
    "\n",
    "specific_word = 'Hello'\n",
    "ans = frequency(specific_word)\n",
    "print(f'Hello word which is occur {ans} time(s).')\n",
    "fp.close()"
   ]
  },
  {
   "cell_type": "markdown",
   "metadata": {},
   "source": [
    "### 09) WAP to get the score of five subjects from the user, store them in a file. Fetch those marks and find the highest score."
   ]
  },
  {
   "cell_type": "code",
   "execution_count": 5,
   "metadata": {},
   "outputs": [
    {
     "name": "stdout",
     "output_type": "stream",
     "text": [
      "Scores have been saved to file9.txt.\n",
      "The highest score is: 99.0\n"
     ]
    }
   ],
   "source": [
    "def stores_marks():\n",
    "    scores = []\n",
    "    for i in range(5):\n",
    "        score = float(input(f\"Enter the score for subject {i+1}: \"))\n",
    "        scores.append(score)\n",
    "\n",
    "    with open('file9.txt', 'w') as fp:\n",
    "        for score in scores:\n",
    "            fp.write(f\"{score}\\n\")\n",
    "    print(f\"Scores have been saved to {fp.name}.\")\n",
    "   \n",
    "def find_highst_marks():\n",
    "    with open('file9.txt', 'r') as fp:\n",
    "        scores = [float(i.strip()) for i in fp]\n",
    "    highest_score = max(scores)\n",
    "    print(f\"The highest score is: {highest_score}\")\n",
    "    fp.close()\n",
    "\n",
    "stores_marks()\n",
    "find_highst_marks()"
   ]
  },
  {
   "cell_type": "markdown",
   "metadata": {},
   "source": [
    "### 10) WAP to write first 100 prime numbers to a file named primenumbers.txt \n",
    "(Note: each number should be in new line)"
   ]
  },
  {
   "cell_type": "code",
   "execution_count": null,
   "metadata": {},
   "outputs": [],
   "source": [
    "def check_prime(n):\n",
    "    if n<2:\n",
    "        return False\n",
    "    for i in range(2, int(n**0.5)+1):\n",
    "        if n%i == 0:\n",
    "            return False\n",
    "    return True\n",
    "\n",
    "prime_numbers = []\n",
    "n = 2\n",
    "while len(prime_numbers) < 100:\n",
    "    if check_prime(n):\n",
    "        prime_numbers.append(n)\n",
    "    n += 1\n",
    "\n",
    "with open('primenumbers.txt', 'w') as fp:\n",
    "    for i in prime_numbers:\n",
    "        fp.write(f\"{i}\\n\")\n",
    "\n",
    "fp.close()\n",
    "print(\"First 100 prime numbers have been written to primenumbers.txt.\")"
   ]
  },
  {
   "cell_type": "markdown",
   "metadata": {},
   "source": [
    "### 11) WAP to merge two files and write it in a new file."
   ]
  },
  {
   "cell_type": "code",
   "execution_count": 11,
   "metadata": {},
   "outputs": [
    {
     "name": "stdout",
     "output_type": "stream",
     "text": [
      "Successfully merged f1.txt and f2.txt into merge_file.txt.\n"
     ]
    }
   ],
   "source": [
    "def merge_files():\n",
    "\n",
    "    # open first file and read it's data\n",
    "    with open('f1.txt', 'r') as fp1:\n",
    "        data1 = fp1.readlines()\n",
    "\n",
    "    # open second file and read it's data\n",
    "    with open('f2.txt', 'r') as fp2:\n",
    "        data2 = fp2.readlines()   \n",
    "    \n",
    "    # Write the merged content into the output file\n",
    "    with open('merge_file.txt', 'w') as fp:\n",
    "        fp.writelines(data1)\n",
    "        fp.writelines(data2)\n",
    "    \n",
    "    print(f\"Successfully merged {fp1.name} and {fp2.name} into {fp.name}.\")\n",
    "    fp1.close()\n",
    "    fp2.close()\n",
    "    fp.close()\n",
    "\n",
    "merge_files()"
   ]
  },
  {
   "cell_type": "markdown",
   "metadata": {},
   "source": [
    "### 12) WAP to replace word1 by word2 of a text file. Write the updated data to new file."
   ]
  },
  {
   "cell_type": "code",
   "execution_count": 13,
   "metadata": {},
   "outputs": [
    {
     "name": "stdout",
     "output_type": "stream",
     "text": [
      "All occurrences of 'Python' have been replaced with 'Java' in OUTPUTfile12.txt.\n"
     ]
    }
   ],
   "source": [
    "def replace_word(oldword, newword):\n",
    "\n",
    "    # open file and read it's data\n",
    "    with open('file12.txt', 'r') as inputFile:\n",
    "        data = inputFile.  read()\n",
    "\n",
    "    # update data (replace)\n",
    "    update_data = data.replace(oldword, newword)\n",
    "\n",
    "    # write updated data in new file\n",
    "    with open('OUTPUTfile12.txt', 'w') as outputFile:\n",
    "            outputFile.write(update_data)\n",
    "\n",
    "    print(f\"All occurrences of '{oldword}' have been replaced with '{newword}' in {outputFile.name}.\")\n",
    "\n",
    "replace_word('Python', 'Java')"
   ]
  },
  {
   "cell_type": "markdown",
   "metadata": {},
   "source": [
    "### 13) Demonstrate tell() and seek() for all the cases(seek from beginning-end-current position) taking a suitable example of your choice."
   ]
  },
  {
   "cell_type": "code",
   "execution_count": 16,
   "metadata": {},
   "outputs": [
    {
     "name": "stdout",
     "output_type": "stream",
     "text": [
      "Initial Position: 0\n",
      "Reading 5 characters: b'Hello'\n",
      "Position after reading 5 characters: 5\n",
      "Position after seeking to the beginning: 0\n",
      "Reading 10 characters: b'Hello, Thi'\n",
      "Position after reading 10 characters: 10\n",
      "Position after seeking 5 characters ahead from current position: 15\n",
      "Position after seeking to 10th character from the end: 50\n",
      "Reading from that position: b') methods.'\n"
     ]
    }
   ],
   "source": [
    "def demonstrate_tell_seek():\n",
    "\n",
    "    # create new file and write some data in this file\n",
    "    with open('file13.txt', 'w') as fp13 :\n",
    "        fp13.write('Hello, This is a demonstration of tell() and seek() methods.')\n",
    "\n",
    "    # open above created file for demonstrate tell() and seek()\n",
    "    with open('file13.txt', 'rb') as fp13 :\n",
    "\n",
    "        # initial\n",
    "        print('Initial Position:',fp13.tell())\n",
    "\n",
    "        # read first 5 characters \n",
    "        print(\"Reading 5 characters:\", fp13.read(5))\n",
    "        print(\"Position after reading 5 characters:\", fp13.tell())\n",
    "\n",
    "        # Seek to the beginning (offset=0, from start of file)\n",
    "        fp13.seek(0)\n",
    "        print(\"Position after seeking to the beginning:\", fp13.tell())\n",
    "\n",
    "        # Read 10 characters\n",
    "        print(\"Reading 10 characters:\", fp13.read(10))\n",
    "        print(\"Position after reading 10 characters:\", fp13.tell())\n",
    "\n",
    "        # Seek to 5th character from the current position\n",
    "        fp13.seek(5, 1)\n",
    "        print(\"Position after seeking 5 characters ahead from current position:\", fp13.tell())\n",
    "\n",
    "        # Seek to 10th character from the end of file\n",
    "        fp13.seek(-10, 2)\n",
    "        print(\"Position after seeking to 10th character from the end:\", fp13.tell())\n",
    "        print(\"Reading from that position:\", fp13.read())\n",
    "\n",
    "        fp13.close()\n",
    "\n",
    "demonstrate_tell_seek()"
   ]
  }
 ],
 "metadata": {
  "kernelspec": {
   "display_name": "Python 3",
   "language": "python",
   "name": "python3"
  },
  "language_info": {
   "codemirror_mode": {
    "name": "ipython",
    "version": 3
   },
   "file_extension": ".py",
   "mimetype": "text/x-python",
   "name": "python",
   "nbconvert_exporter": "python",
   "pygments_lexer": "ipython3",
   "version": "3.13.0"
  }
 },
 "nbformat": 4,
 "nbformat_minor": 4
}
