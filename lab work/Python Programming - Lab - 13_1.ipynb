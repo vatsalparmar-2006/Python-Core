{
 "cells": [
  {
   "cell_type": "markdown",
   "metadata": {},
   "source": [
    "<a href='https://www.darshan.ac.in/'> <img src='https://www.darshan.ac.in/Content/media/DU_Logo.svg' width=\"250\" height=\"300\"/></a>\n",
    "<pre>\n",
    "<center><b><h1>Python Programming - 2301CS404</b></center>\n",
    "<center><b><h1>Lab - 13.1</b></center>    \n",
    "<pre>"
   ]
  },
  {
   "cell_type": "markdown",
   "metadata": {},
   "source": [
    "# OOP"
   ]
  },
  {
   "cell_type": "markdown",
   "metadata": {},
   "source": [
    "### 01) Write a Program to create a class by name Students, and initialize attributes like name, age, and grade while creating an object."
   ]
  },
  {
   "cell_type": "code",
   "execution_count": 2,
   "metadata": {},
   "outputs": [
    {
     "name": "stdout",
     "output_type": "stream",
     "text": [
      "Vatsal 18 A++\n",
      "Vatsal\n",
      "18\n",
      "A++\n"
     ]
    }
   ],
   "source": [
    "class Students:\n",
    "\n",
    "    def __init__(self,name,age,grade):\n",
    "        self.name = name\n",
    "        self.age = age\n",
    "        self.grade = grade\n",
    "        print(name,age,grade)\n",
    "\n",
    "stu = Students('Vatsal',18,'A++')\n",
    "print(stu.name)\n",
    "print(stu.age)\n",
    "print(stu.grade)"
   ]
  },
  {
   "cell_type": "markdown",
   "metadata": {},
   "source": [
    "### 02) Create a class named Bank_Account with Account_No, User_Name, Email,Account_Type and Account_Balance data members. Also create a method GetAccountDetails() and DisplayAccountDetails(). Create main method to demonstrate the Bank_Account class."
   ]
  },
  {
   "cell_type": "code",
   "execution_count": 6,
   "metadata": {},
   "outputs": [
    {
     "name": "stdin",
     "output_type": "stream",
     "text": [
      "Enter Account number :  23010101196\n",
      "Enter User name :  Vatsal\n",
      "Enter Email id :  v@gmail.com\n",
      "Enter Account type :  Savings\n",
      "Enter Account balance :  99000\n"
     ]
    },
    {
     "name": "stdout",
     "output_type": "stream",
     "text": [
      "---------- Account Details ----------\n",
      "23010101196\n",
      "Vatsal\n",
      "v@gmail.com\n",
      "Savings\n",
      "99000\n"
     ]
    }
   ],
   "source": [
    "class Bank_Account:\n",
    "\n",
    "    def __init__(self):\n",
    "        pass\n",
    "        \n",
    "    def GetAccountDetails(self):\n",
    "        self.Account_no = int(input(\"Enter Account number : \"))\n",
    "        self.User_Name = input(\"Enter User name : \")\n",
    "        self.Email = input(\"Enter Email id : \")\n",
    "        self.Account_Type = input(\"Enter Account type : \")\n",
    "        self.Account_Balance = int(input(\"Enter Account balance : \"))\n",
    "        \n",
    "    def DisplayAccountDetails(self):\n",
    "        print(self.Account_no)\n",
    "        print(self.User_Name)\n",
    "        print(self.Email)\n",
    "        print(self.Account_Type)\n",
    "        print(self.Account_Balance)\n",
    "\n",
    "obj = Bank_Account()\n",
    "obj.GetAccountDetails()\n",
    "print(\"---------- Account Details ----------\")\n",
    "obj.DisplayAccountDetails()"
   ]
  },
  {
   "cell_type": "markdown",
   "metadata": {},
   "source": [
    "### 03) WAP to create Circle class with area and perimeter function to find area and perimeter of circle."
   ]
  },
  {
   "cell_type": "code",
   "execution_count": 12,
   "metadata": {},
   "outputs": [
    {
     "name": "stdin",
     "output_type": "stream",
     "text": [
      "Enter a value of radius :  5\n"
     ]
    },
    {
     "name": "stdout",
     "output_type": "stream",
     "text": [
      "area of circle is :  78.53981633974483\n"
     ]
    },
    {
     "name": "stdin",
     "output_type": "stream",
     "text": [
      "Enter a value of radius :  5\n"
     ]
    },
    {
     "name": "stdout",
     "output_type": "stream",
     "text": [
      "perimeter of circle is :  31.41592653589793\n"
     ]
    }
   ],
   "source": [
    "import math\n",
    "class Circle:\n",
    "\n",
    "    def __init__(self):\n",
    "        pass\n",
    "\n",
    "    def circle_area(self):\n",
    "        self.area = int(input(\"Enter a value of radius : \"))\n",
    "        print(\"area of circle is : \",math.pi*self.area*self.area)\n",
    "\n",
    "    def circle_perimeter(self):\n",
    "        self.perimeter = int(input(\"Enter a value of radius : \"))\n",
    "        print(\"perimeter of circle is : \",2*math.pi*self.perimeter)\n",
    "\n",
    "circle_obj = Circle()\n",
    "circle_obj.circle_area()\n",
    "circle_obj.circle_perimeter()"
   ]
  },
  {
   "cell_type": "markdown",
   "metadata": {},
   "source": [
    "### 04) Create a class for employees that includes attributes such as name, age, salary, and methods to update and display employee information."
   ]
  },
  {
   "cell_type": "code",
   "execution_count": 7,
   "metadata": {},
   "outputs": [
    {
     "name": "stdout",
     "output_type": "stream",
     "text": [
      "---------- Employee details ----------\n"
     ]
    },
    {
     "name": "stdin",
     "output_type": "stream",
     "text": [
      "Enter your name :  Vats\n",
      "Enter your age :  25\n",
      "Enter your salary :  49000\n"
     ]
    },
    {
     "name": "stdout",
     "output_type": "stream",
     "text": [
      "---------- Get Employee details ----------\n",
      "Vats\n",
      "25\n",
      "49000\n",
      "---------- updated details -----------\n",
      "DEMO\n",
      "25\n",
      "49000\n"
     ]
    }
   ],
   "source": [
    "class Employee:\n",
    "\n",
    "    def __init__(self):\n",
    "        pass\n",
    "\n",
    "    def EmployeeDetails(self):\n",
    "        self.name = input(\"Enter your name : \")\n",
    "        self.age = int(input(\"Enter your age : \"))\n",
    "        self.salary = int(input(\"Enter your salary : \"))\n",
    "\n",
    "    def getDetails(self):\n",
    "        print(self.name)\n",
    "        print(self.age)\n",
    "        print(self.salary)\n",
    "\n",
    "    def updateDetails(self,name=None,age=None,salary=None):\n",
    "        if name:\n",
    "            self.name = name\n",
    "        if age:\n",
    "            self.age = age\n",
    "        if salary:\n",
    "            self.salary = salary\n",
    "\n",
    "e = Employee()\n",
    "print(\"---------- Employee details ----------\")\n",
    "e.EmployeeDetails()\n",
    "print(\"---------- Get Employee details ----------\")\n",
    "e.getDetails()\n",
    "e.updateDetails(name=\"DEMO\")\n",
    "print(\"---------- updated details -----------\")\n",
    "e.getDetails()"
   ]
  },
  {
   "cell_type": "markdown",
   "metadata": {},
   "source": [
    "### 05) Create a bank account class with methods to deposit, withdraw, and check balance."
   ]
  },
  {
   "cell_type": "code",
   "execution_count": 13,
   "metadata": {},
   "outputs": [
    {
     "name": "stdin",
     "output_type": "stream",
     "text": [
      "Enter Account number:  2301010119696\n",
      "Enter User name:  Vats\n",
      "Enter Account balance:  99000\n"
     ]
    },
    {
     "name": "stdout",
     "output_type": "stream",
     "text": [
      "----------\n",
      "Account Number: 2301010119696\n",
      "User Name: Vats\n",
      "Account Balance: 99000\n"
     ]
    },
    {
     "name": "stdin",
     "output_type": "stream",
     "text": [
      "Enter amount to deposit:  2000\n"
     ]
    },
    {
     "name": "stdout",
     "output_type": "stream",
     "text": [
      "₹2000 deposited successfully!\n",
      "₹1000 withdrawn successfully!\n",
      "Account Number: 2301010119696\n",
      "User Name: Vats\n",
      "Account Balance: 100000\n"
     ]
    }
   ],
   "source": [
    "class BankSystem:\n",
    "\n",
    "    def __init__(self):\n",
    "        self.Account_no = None\n",
    "        self.User_Name = None\n",
    "        self.Account_Balance = 0\n",
    "\n",
    "    def user_account_details(self):\n",
    "        self.Account_no = int(input(\"Enter Account number: \"))\n",
    "        self.User_Name = input(\"Enter User name: \")\n",
    "        self.Account_Balance = int(input(\"Enter Account balance: \"))\n",
    "\n",
    "    def get_details(self):\n",
    "        print(\"Account Number:\", self.Account_no)\n",
    "        print(\"User Name:\", self.User_Name)\n",
    "        print(\"Account Balance:\", self.Account_Balance)\n",
    "\n",
    "    def deposit_money(self):\n",
    "        deposit = int(input(\"Enter amount to deposit: \"))\n",
    "        self.Account_Balance += deposit\n",
    "        print(f\"₹{deposit} deposited successfully!\")\n",
    "\n",
    "    def withdraw_money(self, money):\n",
    "        if money > self.Account_Balance:\n",
    "            print(\"Sorry!!!! INSUFFICIENT BALANCE\")\n",
    "        else:\n",
    "            self.Account_Balance -= money\n",
    "            print(f\"₹{money} withdrawn successfully!\")\n",
    "\n",
    "object1 = BankSystem()\n",
    "object1.user_account_details()\n",
    "print('----------')\n",
    "object1.get_details()\n",
    "object1.deposit_money()\n",
    "object1.withdraw_money(1000)\n",
    "object1.get_details()\n"
   ]
  },
  {
   "cell_type": "markdown",
   "metadata": {},
   "source": [
    "### 06) Create a class for managing inventory that includes attributes such as item name, price, quantity, and methods to add, remove, and update items."
   ]
  },
  {
   "cell_type": "code",
   "execution_count": 19,
   "metadata": {},
   "outputs": [
    {
     "name": "stdout",
     "output_type": "stream",
     "text": [
      "Added 10 Laptop(s) to inventory.\n",
      "Added 15 Phone(s) to inventory.\n",
      "Inventory Details:\n",
      "Laptop: Price - $1200, Quantity - 10\n",
      "Phone: Price - $800, Quantity - 15\n",
      "Removed 5 Laptop(s) from inventory.\n",
      "Updated price of Phone to $850.\n",
      "Inventory Details:\n",
      "Laptop: Price - $1200, Quantity - 5\n",
      "Phone: Price - $850, Quantity - 15\n",
      "Not enough Laptop in inventory to remove.\n",
      "Tablet not found in inventory.\n"
     ]
    }
   ],
   "source": [
    "class Inventory:\n",
    "    def __init__(self):\n",
    "        self.items = {}\n",
    "\n",
    "    def add_item(self, item_name, price, quantity):\n",
    "        if item_name in self.items:\n",
    "            self.items[item_name]['quantity'] += quantity\n",
    "        else:\n",
    "            self.items[item_name] = {'price': price, 'quantity': quantity}\n",
    "        print(f\"Added {quantity} {item_name}(s) to inventory.\")\n",
    "\n",
    "    def remove_item(self, item_name, quantity):\n",
    "        if item_name in self.items:\n",
    "            if self.items[item_name]['quantity'] >= quantity:\n",
    "                self.items[item_name]['quantity'] -= quantity\n",
    "                print(f\"Removed {quantity} {item_name}(s) from inventory.\")\n",
    "            else:\n",
    "                print(f\"Not enough {item_name} in inventory to remove.\")\n",
    "        else:\n",
    "            print(f\"{item_name} not found in inventory.\")\n",
    "\n",
    "    def update_price(self, item_name, new_price):\n",
    "        if item_name in self.items:\n",
    "            self.items[item_name]['price'] = new_price\n",
    "            print(f\"Updated price of {item_name} to ${new_price}.\")\n",
    "        else:\n",
    "            print(f\"{item_name} not found in inventory.\")\n",
    "\n",
    "    def display_inventory(self):\n",
    "        if not self.items:\n",
    "            print(\"Inventory is empty.\")\n",
    "        else:\n",
    "            print(\"Inventory Details:\")\n",
    "            for item_name, details in self.items.items():\n",
    "                print(f\"{item_name}: Price - ${details['price']}, Quantity - {details['quantity']}\")\n",
    "\n",
    "inventory = Inventory()\n",
    "inventory.add_item(\"Laptop\", 1200, 10)\n",
    "inventory.add_item(\"Phone\", 800, 15)\n",
    "inventory.display_inventory()\n",
    "inventory.remove_item(\"Laptop\", 5)\n",
    "inventory.update_price(\"Phone\", 850)\n",
    "inventory.display_inventory()\n",
    "inventory.remove_item(\"Laptop\", 6)\n",
    "inventory.update_price(\"Tablet\", 300)"
   ]
  },
  {
   "cell_type": "markdown",
   "metadata": {},
   "source": [
    "### 07) Create a Class with instance attributes of your choice."
   ]
  },
  {
   "cell_type": "code",
   "execution_count": 20,
   "metadata": {},
   "outputs": [
    {
     "name": "stdout",
     "output_type": "stream",
     "text": [
      "Car Information:\n",
      "Make: Toyota\n",
      "Model: Century\n",
      "Year: 2021\n",
      "Color: Blue\n",
      "Car Information:\n",
      "Make: Honda\n",
      "Model: Civic\n",
      "Year: 2020\n",
      "Color: Red\n"
     ]
    }
   ],
   "source": [
    "class Car:\n",
    "    def __init__(self, make, model, year, color):\n",
    "        self.make = make\n",
    "        self.model = model\n",
    "        self.year = year\n",
    "        self.color = color\n",
    "\n",
    "    def display_car_info(self):\n",
    "        print(f\"Car Information:\")\n",
    "        print(f\"Make: {self.make}\")\n",
    "        print(f\"Model: {self.model}\")\n",
    "        print(f\"Year: {self.year}\")\n",
    "        print(f\"Color: {self.color}\")\n",
    "\n",
    "car1 = Car(\"Toyota\", \"Century\", 2021, \"Blue\")\n",
    "car1.display_car_info()\n",
    "car2 = Car(\"Honda\", \"Civic\", 2020, \"Red\")\n",
    "car2.display_car_info()"
   ]
  },
  {
   "cell_type": "markdown",
   "metadata": {},
   "source": [
    "### 08) Create one class student_kit\n",
    "#### Within the student_kit class create one class attribute principal name ( Mr ABC )\n",
    "#### Create one attendance method and take input as number of days.\n",
    "#### While creating student take input their name .\n",
    "#### Create one certificate for each student by taking input of number of days present in class."
   ]
  },
  {
   "cell_type": "code",
   "execution_count": 15,
   "metadata": {},
   "outputs": [
    {
     "name": "stdin",
     "output_type": "stream",
     "text": [
      "Enter the student's name:  Vats\n",
      "Enter the number of days present in class:  70\n"
     ]
    },
    {
     "name": "stdout",
     "output_type": "stream",
     "text": [
      "Attendance recorded: 70 days\n",
      "Certificate of Attendance\n",
      "\n",
      "Principal: Mr ABC\n",
      "Student: Vats\n",
      "Days Present: 70\n",
      "Status: Failed (Attendance is insufficient)\n"
     ]
    }
   ],
   "source": [
    "class StudentKit:\n",
    "    principal = \"Mr ABC\"\n",
    "    \n",
    "    def __init__(self, student_name):\n",
    "        self.student_name = student_name\n",
    "        self.attendance = 0\n",
    "\n",
    "    def record_attendance(self, days_present):\n",
    "        self.attendance = days_present\n",
    "        print(f\"Attendance recorded: {self.attendance} days\")\n",
    "\n",
    "    def generate_certificate(self):\n",
    "        if self.attendance >= 75:\n",
    "            print(f\"Certificate of Attendance\\n\")\n",
    "            print(f\"Principal: {StudentKit.principal}\")\n",
    "            print(f\"Student: {self.student_name}\")\n",
    "            print(f\"Days Present: {self.attendance}\")\n",
    "            print(f\"Status: Passed (Attendance is sufficient)\")\n",
    "        else:\n",
    "            print(f\"Certificate of Attendance\\n\")\n",
    "            print(f\"Principal: {StudentKit.principal}\")\n",
    "            print(f\"Student: {self.student_name}\")\n",
    "            print(f\"Days Present: {self.attendance}\")\n",
    "            print(f\"Status: Failed (Attendance is insufficient)\")\n",
    "\n",
    "student_name = input(\"Enter the student's name: \")\n",
    "student = StudentKit(student_name)\n",
    "days_present = int(input(\"Enter the number of days present in class: \"))\n",
    "student.record_attendance(days_present)\n",
    "student.generate_certificate()"
   ]
  },
  {
   "cell_type": "markdown",
   "metadata": {},
   "source": [
    "### 09) Define Time class with hour and minute as data member. Also define addition method to add two time objects."
   ]
  },
  {
   "cell_type": "code",
   "execution_count": 22,
   "metadata": {},
   "outputs": [
    {
     "name": "stdout",
     "output_type": "stream",
     "text": [
      "Time 1:\n",
      "2 hour(s) and 45 minute(s)\n",
      "Time 2:\n",
      "3 hour(s) and 30 minute(s)\n",
      "Total Time after adding:\n",
      "6 hour(s) and 15 minute(s)\n"
     ]
    }
   ],
   "source": [
    "class Time:\n",
    "    def __init__(self, hour=0, minute=0):\n",
    "        self.hour = hour\n",
    "        self.minute = minute\n",
    "\n",
    "    def add_time(self, other):\n",
    "        total_minutes = (self.hour * 60 + self.minute) + (other.hour * 60 + other.minute)\n",
    "        total_hour = total_minutes // 60\n",
    "        total_minute = total_minutes % 60\n",
    "        return Time(total_hour, total_minute)\n",
    "    \n",
    "    def display_time(self):\n",
    "        print(f\"{self.hour} hour(s) and {self.minute} minute(s)\")\n",
    "\n",
    "time1 = Time(2, 45)\n",
    "time2 = Time(3, 30)\n",
    "total_time = time1.add_time(time2)\n",
    "print(\"Time 1:\")\n",
    "time1.display_time()\n",
    "print(\"Time 2:\")\n",
    "time2.display_time()\n",
    "print(\"Total Time after adding:\")\n",
    "total_time.display_time()"
   ]
  }
 ],
 "metadata": {
  "kernelspec": {
   "display_name": "Python 3 (ipykernel)",
   "language": "python",
   "name": "python3"
  },
  "language_info": {
   "codemirror_mode": {
    "name": "ipython",
    "version": 3
   },
   "file_extension": ".py",
   "mimetype": "text/x-python",
   "name": "python",
   "nbconvert_exporter": "python",
   "pygments_lexer": "ipython3",
   "version": "3.12.7"
  }
 },
 "nbformat": 4,
 "nbformat_minor": 4
}
