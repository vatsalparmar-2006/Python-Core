{
 "cells": [
  {
   "cell_type": "markdown",
   "metadata": {},
   "source": [
    "<a href='https://www.darshan.ac.in/'> <img src='https://www.darshan.ac.in/Content/media/DU_Logo.svg' width=\"250\" height=\"300\"/></a>\n",
    "<pre>\n",
    "<center><b><h1>Python Programming - 2301CS404</b></center>\n",
    "<center><b><h1>Lab - 13.2</b></center>    \n",
    "<pre>"
   ]
  },
  {
   "cell_type": "markdown",
   "metadata": {},
   "source": [
    "## Continued.."
   ]
  },
  {
   "cell_type": "markdown",
   "metadata": {},
   "source": [
    "### 10) Calculate area of a ractangle using object as an argument to a method."
   ]
  },
  {
   "cell_type": "code",
   "execution_count": 3,
   "metadata": {},
   "outputs": [
    {
     "name": "stdout",
     "output_type": "stream",
     "text": [
      "Area of rectangle: 50\n"
     ]
    }
   ],
   "source": [
    "class area_of_ractangle:\n",
    "    \n",
    "    def __init__(self, l, b):\n",
    "        self.length = l\n",
    "        self.breadth = b\n",
    "\n",
    "    def calculate_area(self):\n",
    "        return self.length*self.breadth\n",
    "\n",
    "rec1 = area_of_ractangle(10,5)\n",
    "print('Area of rectangle:', rec1.calculate_area())\n"
   ]
  },
  {
   "cell_type": "markdown",
   "metadata": {},
   "source": [
    "### 11) Calculate the area of a square. \n",
    "### Include a Constructor, a method to calculate area named area() and a method named output() that prints the output and is invoked by area()."
   ]
  },
  {
   "cell_type": "code",
   "execution_count": 11,
   "metadata": {},
   "outputs": [
    {
     "name": "stdout",
     "output_type": "stream",
     "text": [
      "Area of Suare: 100\n"
     ]
    }
   ],
   "source": [
    "class area_of_square:\n",
    "    \n",
    "    def __init__(self, l):\n",
    "        self.length = l\n",
    "\n",
    "    def area(self):\n",
    "        area = self.length**2\n",
    "        self.output(area)\n",
    "\n",
    "    def output(self, area):\n",
    "        print('Area of Suare:',area)\n",
    "\n",
    "squ1 = area_of_square(10)\n",
    "squ1.area()"
   ]
  },
  {
   "cell_type": "markdown",
   "metadata": {},
   "source": [
    "### 12) Calculate the area of a rectangle. \n",
    "### Include a Constructor, a method to calculate area named area() and a method named output() that prints the output and is invoked by area().\n",
    "### Also define a class method that compares the two sides of reactangle. An object is instantiated only if the two sides are different; otherwise a message should be displayed : THIS IS SQUARE."
   ]
  },
  {
   "cell_type": "code",
   "execution_count": 35,
   "metadata": {},
   "outputs": [
    {
     "name": "stdout",
     "output_type": "stream",
     "text": [
      "This is Square.\n"
     ]
    }
   ],
   "source": [
    "class calculate_area_of_reatangle:\n",
    "    \n",
    "    def __init__(self, l, b):\n",
    "        self.length = l\n",
    "        self.breadth = b\n",
    "\n",
    "    @classmethod\n",
    "    def check_rectangle(self, l, b):\n",
    "        if l==b:\n",
    "            print('This is Square.')\n",
    "            return None\n",
    "        else:\n",
    "            return calculate_area_of_reatangle(l,b)\n",
    "\n",
    "    def area(self):\n",
    "        area = self.length*self.breadth\n",
    "        self.output(area)\n",
    "\n",
    "    def output(self, area):\n",
    "        print('Area of Suare:',area)\n",
    "\n",
    "squ1 = calculate_area_of_reatangle.check_rectangle(10, 10)\n",
    "if squ1:\n",
    "    squ1.area()"
   ]
  },
  {
   "cell_type": "markdown",
   "metadata": {},
   "source": [
    "### 13) Define a class Square having a private attribute \"side\". \n",
    "### Implement get_side and set_side methods to accees the private attribute from outside of the class."
   ]
  },
  {
   "cell_type": "code",
   "execution_count": 45,
   "metadata": {},
   "outputs": [
    {
     "name": "stdin",
     "output_type": "stream",
     "text": [
      "Enter a value of side : 10\n"
     ]
    },
    {
     "name": "stdout",
     "output_type": "stream",
     "text": [
      "Side of Square: 10\n"
     ]
    }
   ],
   "source": [
    "class Square:\n",
    "    \n",
    "    def __init__(self):\n",
    "        self.__side = int(input(\"Enter a value of side :\"))\n",
    "\n",
    "    def get_side(self):\n",
    "        side = self.__side\n",
    "        self.set_side(side) \n",
    "\n",
    "    def set_side(self,side):\n",
    "        print('Side of Square:', side)\n",
    "        \n",
    "square1 = Square()\n",
    "square1.get_side()"
   ]
  },
  {
   "cell_type": "markdown",
   "metadata": {},
   "source": [
    "### 14) Create a class Profit that has a method named getProfit that accepts profit from the user.\n",
    "### Create a class Loss that has a method named getLoss that accepts loss from the user.\n",
    "### Create a class BalanceSheet that inherits from both classes Profit and Loss and calculates the balanace. It has two methods getBalance() and printBalance()."
   ]
  },
  {
   "cell_type": "code",
   "execution_count": 52,
   "metadata": {},
   "outputs": [
    {
     "name": "stdin",
     "output_type": "stream",
     "text": [
      "Enter a value of profit : 1500\n",
      "Enter a value of loss : 1000\n"
     ]
    },
    {
     "name": "stdout",
     "output_type": "stream",
     "text": [
      "Total Balance: 500\n"
     ]
    }
   ],
   "source": [
    "class Profit:\n",
    "    def getProfit():\n",
    "        profit = int(input(\"Enter a value of profit :\")) \n",
    "        return profit\n",
    "\n",
    "class Loss:\n",
    "    def getLoss():\n",
    "        loss = int(input(\"Enter a value of loss :\")) \n",
    "        return loss\n",
    "\n",
    "class BalanceSheet(Profit, Loss):\n",
    "    def printBalance(self):\n",
    "        balance = Profit.getProfit() - Loss.getLoss()\n",
    "        print('Total Balance:',balance)\n",
    "\n",
    "obj = BalanceSheet()\n",
    "obj.printBalance()"
   ]
  },
  {
   "attachments": {},
   "cell_type": "markdown",
   "metadata": {},
   "source": [
    "### 15) WAP to demonstrate all types of inheritance."
   ]
  },
  {
   "cell_type": "code",
   "execution_count": 11,
   "metadata": {},
   "outputs": [
    {
     "name": "stdout",
     "output_type": "stream",
     "text": [
      "Single Inheritance:\n",
      "This is Parent class\n",
      "This is Child class\n",
      "\n",
      "Multiple Inheritance:\n",
      "This is Mother class\n",
      "This is Father class\n",
      "This is Child class with Multiple Inheritance\n",
      "\n",
      "Multilevel Inheritance:\n",
      "This is Grandparent class\n",
      "This is Parent class in Multilevel Inheritance\n",
      "This is Child class in Multilevel Inheritance\n",
      "\n",
      "Hierarchical Inheritance:\n",
      "This is Base class\n",
      "This is Derived1 class\n",
      "This is Base class\n",
      "This is Derived2 class\n",
      "\n",
      "Hybrid Inheritance:\n",
      "This is Hybrid Base class\n",
      "This is Hybrid Child1 class\n",
      "This is Hybrid Child2 class\n",
      "This is Hybrid Derived class\n"
     ]
    }
   ],
   "source": [
    "# Single Inheritance\n",
    "class Parent:\n",
    "    def func1(self):\n",
    "        print(\"This is Parent class\")\n",
    "\n",
    "class Child(Parent):\n",
    "    def func2(self):\n",
    "        print(\"This is Child class\")\n",
    "\n",
    "# Multiple Inheritance\n",
    "class Mother:\n",
    "    def func3(self):\n",
    "        print(\"This is Mother class\")\n",
    "\n",
    "class Father:\n",
    "    def func4(self):\n",
    "        print(\"This is Father class\")\n",
    "\n",
    "class ChildMultiple(Mother, Father):\n",
    "    def func5(self):\n",
    "        print(\"This is Child class with Multiple Inheritance\")\n",
    "\n",
    "# Multilevel Inheritance\n",
    "class Grandparent:\n",
    "    def func6(self):\n",
    "        print(\"This is Grandparent class\")\n",
    "\n",
    "class ParentMultilevel(Grandparent):\n",
    "    def func7(self):\n",
    "        print(\"This is Parent class in Multilevel Inheritance\")\n",
    "\n",
    "class ChildMultilevel(ParentMultilevel):\n",
    "    def func8(self):\n",
    "        print(\"This is Child class in Multilevel Inheritance\")\n",
    "\n",
    "# Hierarchical Inheritance\n",
    "class Base:\n",
    "    def func9(self):\n",
    "        print(\"This is Base class\")\n",
    "\n",
    "class Derived1(Base):\n",
    "    def func10(self):\n",
    "        print(\"This is Derived1 class\")\n",
    "\n",
    "class Derived2(Base):\n",
    "    def func11(self):\n",
    "        print(\"This is Derived2 class\")\n",
    "\n",
    "# Hybrid Inheritance\n",
    "class HybridBase:\n",
    "    def func12(self):\n",
    "        print(\"This is Hybrid Base class\")\n",
    "\n",
    "class HybridChild1(HybridBase):\n",
    "    def func13(self):\n",
    "        print(\"This is Hybrid Child1 class\")\n",
    "\n",
    "class HybridChild2(HybridBase):\n",
    "    def func14(self):\n",
    "        print(\"This is Hybrid Child2 class\")\n",
    "\n",
    "class HybridDerived(HybridChild1, HybridChild2):\n",
    "    def func15(self):\n",
    "        print(\"This is Hybrid Derived class\")\n",
    "\n",
    "\n",
    "\n",
    "print(\"Single Inheritance:\")\n",
    "obj1 = Child()\n",
    "obj1.func1()\n",
    "obj1.func2()\n",
    "\n",
    "print(\"\\nMultiple Inheritance:\")\n",
    "obj2 = ChildMultiple()\n",
    "obj2.func3()\n",
    "obj2.func4()\n",
    "obj2.func5()\n",
    "\n",
    "print(\"\\nMultilevel Inheritance:\")\n",
    "obj3 = ChildMultilevel()\n",
    "obj3.func6()\n",
    "obj3.func7()\n",
    "obj3.func8()\n",
    "\n",
    "print(\"\\nHierarchical Inheritance:\")\n",
    "obj4 = Derived1()\n",
    "obj5 = Derived2()\n",
    "obj4.func9()\n",
    "obj4.func10()\n",
    "obj5.func9()\n",
    "obj5.func11()\n",
    "\n",
    "print(\"\\nHybrid Inheritance:\")\n",
    "obj6 = HybridDerived()\n",
    "obj6.func12()\n",
    "obj6.func13()\n",
    "obj6.func14()\n",
    "obj6.func15()\n"
   ]
  },
  {
   "cell_type": "markdown",
   "metadata": {},
   "source": [
    "### 16) Create a Person class with a constructor that takes two arguments name and age. \n",
    "### Create a child class Employee that inherits from Person and adds a new attribute salary. \n",
    "### Override the __init__ method in Employee to call the parent class's __init__ method using the super() and then initialize the salary attribute."
   ]
  },
  {
   "cell_type": "code",
   "execution_count": 7,
   "metadata": {},
   "outputs": [
    {
     "name": "stdout",
     "output_type": "stream",
     "text": [
      "Name: Vats, Age: 30\n",
      "Salary: 50000\n"
     ]
    }
   ],
   "source": [
    "class Person:\n",
    "    def __init__(self, name, age):\n",
    "        self.name = name\n",
    "        self.age = age\n",
    "    \n",
    "    def display(self):\n",
    "        print(f\"Name: {self.name}, Age: {self.age}\")\n",
    "\n",
    "class Employee(Person):\n",
    "    def __init__(self, name, age, salary):\n",
    "        super().__init__(name, age)\n",
    "        self.salary = salary\n",
    "    \n",
    "    def display(self):\n",
    "        super().display()\n",
    "        print(f\"Salary: {self.salary}\")\n",
    "\n",
    "emp = Employee(\"Vats\", 30, 50000)\n",
    "emp.display()"
   ]
  },
  {
   "cell_type": "markdown",
   "metadata": {},
   "source": [
    "### 17) Create a Shape class with a draw method that is not implemented. \n",
    "### Create three child classes Rectangle, Circle, and Triangle that implement the draw method with their respective drawing behaviors. \n",
    "### Create a list of Shape objects that includes one instance of each child class, and then iterate through the list and call the draw method on each object."
   ]
  },
  {
   "cell_type": "code",
   "execution_count": 56,
   "metadata": {},
   "outputs": [
    {
     "name": "stdout",
     "output_type": "stream",
     "text": [
      "This is a Ractengle.\n",
      "This is a Circle.\n",
      "This is a Triangle.\n"
     ]
    }
   ],
   "source": [
    "from abc import ABC, abstractmethod\n",
    "\n",
    "class Shape(ABC):\n",
    "    @abstractmethod\n",
    "    def draw(self):\n",
    "        pass\n",
    "        \n",
    "class Rectangle(Shape):\n",
    "    def draw(self):\n",
    "        print('This is a Ractengle.')\n",
    "        \n",
    "class Circle:\n",
    "    def draw(self):\n",
    "        print('This is a Circle.')\n",
    "        \n",
    "class Triangle:\n",
    "    def draw(self):\n",
    "        print('This is a Triangle.')\n",
    "\n",
    "rec1 = Rectangle()\n",
    "rec1.draw()\n",
    "\n",
    "cir1 = Circle()\n",
    "cir1.draw()\n",
    "\n",
    "tri1 = Triangle()\n",
    "tri1.draw()"
   ]
  }
 ],
 "metadata": {
  "kernelspec": {
   "display_name": "Python 3 (ipykernel)",
   "language": "python",
   "name": "python3"
  },
  "language_info": {
   "codemirror_mode": {
    "name": "ipython",
    "version": 3
   },
   "file_extension": ".py",
   "mimetype": "text/x-python",
   "name": "python",
   "nbconvert_exporter": "python",
   "pygments_lexer": "ipython3",
   "version": "3.12.7"
  }
 },
 "nbformat": 4,
 "nbformat_minor": 4
}
