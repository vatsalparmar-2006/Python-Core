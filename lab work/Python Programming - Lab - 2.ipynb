{
 "cells": [
  {
   "cell_type": "markdown",
   "metadata": {},
   "source": [
    "\n",
    "<a href='https://www.darshan.ac.in/'> <img src='https://www.darshan.ac.in/Content/media/DU_Logo.svg' width=\"250\" height=\"300\"/></a>\n",
    "<pre>\n",
    "<center><b><h1>Python Programming - 2301CS404</b></center>\n",
    "<center><b><h1>Lab - 2</b></center>    \n",
    "<center><b><h1>Parmar Vatsal | 23010101196 | A3</b></center>\n",
    "<pre>"
   ]
  },
  {
   "cell_type": "markdown",
   "metadata": {},
   "source": [
    "# if..else.."
   ]
  },
  {
   "cell_type": "markdown",
   "metadata": {},
   "source": [
    "### 01) WAP to check whether the given number is positive or negative."
   ]
  },
  {
   "cell_type": "code",
   "execution_count": 2,
   "metadata": {},
   "outputs": [
    {
     "name": "stdout",
     "output_type": "stream",
     "text": [
      "Number is Negative.\n"
     ]
    }
   ],
   "source": [
    "a = int(input(\"Enter a number n =\"))\n",
    "\n",
    "if a >= 0 :\n",
    "    print(\"Number is Positive.\")\n",
    "else :\n",
    "    print(\"Number is Negative.\")"
   ]
  },
  {
   "cell_type": "markdown",
   "metadata": {},
   "source": [
    "### 02) WAP to check whether the given number is odd or even."
   ]
  },
  {
   "cell_type": "code",
   "execution_count": null,
   "metadata": {},
   "outputs": [],
   "source": [
    "a = int(input('Enter a number n ='))\n",
    "\n",
    "if a%2 == 0 :\n",
    "    print(\"Number is Even.\")\n",
    "else : \n",
    "    print('Number is Odd.')"
   ]
  },
  {
   "cell_type": "markdown",
   "metadata": {},
   "source": [
    "### 03) WAP to find out largest number from given two numbers using simple if and ternary operator."
   ]
  },
  {
   "cell_type": "code",
   "execution_count": 9,
   "metadata": {},
   "outputs": [
    {
     "name": "stdout",
     "output_type": "stream",
     "text": [
      "----- simple if -----\n",
      "5 is Largest.\n",
      "\n",
      "----- ternary -----\n",
      "5 is Largest.\n"
     ]
    }
   ],
   "source": [
    "n1 = int(input('Enter a first number n1 ='))\n",
    "n2= int(input('Enter a second number n2 ='))\n",
    "\n",
    "print('----- simple if -----')\n",
    "if n1>n2 :\n",
    "    print(n1,'is Largest.')\n",
    "else :\n",
    "    print(n2, 'is Largest.')\n",
    "\n",
    "print('\\n----- ternary -----')\n",
    "print(n1,'is Largest.') if n1>n2 else print(n2,'is Largest.')\n"
   ]
  },
  {
   "cell_type": "markdown",
   "metadata": {},
   "source": [
    "### 04) WAP to find out largest number from given three numbers."
   ]
  },
  {
   "cell_type": "code",
   "execution_count": 15,
   "metadata": {},
   "outputs": [
    {
     "name": "stdout",
     "output_type": "stream",
     "text": [
      "7 is Largest.\n"
     ]
    }
   ],
   "source": [
    "n1 = int(input('Enter a first number n1 ='))\n",
    "n2= int(input('Enter a second number n2 ='))\n",
    "n3 = int(input('Enter a third number n3 ='))\n",
    "\n",
    " \n",
    "print(n1,'is Largest.') if(n1>n2 and n1>n3) else n2 if(n2>n3) else n3\n"
   ]
  },
  {
   "cell_type": "markdown",
   "metadata": {},
   "source": [
    "### 05) WAP to check whether the given year is leap year or not.\n",
    "[If a year can be divisible by 4 but not divisible by 100 then it is leap year but if it is divisible by 400 then it is leap year]"
   ]
  },
  {
   "cell_type": "code",
   "execution_count": 32,
   "metadata": {},
   "outputs": [
    {
     "name": "stdout",
     "output_type": "stream",
     "text": [
      "It is Not Leap Year.\n"
     ]
    }
   ],
   "source": [
    "year = int(input('Enter a year :'))\n",
    "\n",
    "if(year%4==0 and year%100!=0) or (year%400==0) :\n",
    "    print(\"It is Leap Year.\")\n",
    "else :\n",
    "    print(\"It is Not Leap Year.\")"
   ]
  },
  {
   "cell_type": "markdown",
   "metadata": {},
   "source": [
    "### 06) WAP in python to display the name of the day according to the number given by the user."
   ]
  },
  {
   "cell_type": "code",
   "execution_count": 17,
   "metadata": {},
   "outputs": [
    {
     "name": "stdout",
     "output_type": "stream",
     "text": [
      "Invalid number. Please Enter a number between 1 to 7.\n"
     ]
    }
   ],
   "source": [
    "a = int(input('Enter number for day :'))\n",
    "\n",
    "match a :\n",
    "    case 1 :\n",
    "        print('Today is Monday.')\n",
    "    case 2 :\n",
    "        print('Today is Tuesday.')\n",
    "    case 3 :\n",
    "        print('Today is Wednesday.')\n",
    "    case 4 :\n",
    "        print('Today is Thursday.')\n",
    "    case 5 :\n",
    "        print('Today is Friday.')\n",
    "    case 6 :\n",
    "        print('Today is Saturday.')\n",
    "    case 7 :\n",
    "        print('Today is Sunday.')\n",
    "    case _ :\n",
    "        print('Invalid number. Please Enter a number between 1 to 7.')"
   ]
  },
  {
   "cell_type": "markdown",
   "metadata": {},
   "source": [
    "### 07) WAP to implement simple calculator which performs (add,sub,mul,div) of two no. based on user input."
   ]
  },
  {
   "cell_type": "code",
   "execution_count": 18,
   "metadata": {},
   "outputs": [
    {
     "name": "stdout",
     "output_type": "stream",
     "text": [
      "Addition : 8\n"
     ]
    }
   ],
   "source": [
    "n1 = int(input('Enter a first number n1 ='))\n",
    "n2 = int(input('Enter a second number n2 ='))\n",
    "\n",
    "operation = input('Enter a operation :')\n",
    "\n",
    "if(operation == '+') :\n",
    "    print('Addition :',n1+n2)\n",
    "elif(operation == '-') :\n",
    "    print('Substraction :',n1-n2)\n",
    "elif(operation == '*') :\n",
    "    print('Multiplication :',n1*n2)\n",
    "else :\n",
    "    print('Addition :',n1/n2)\n"
   ]
  },
  {
   "cell_type": "markdown",
   "metadata": {},
   "source": [
    "### 08) WAP to read marks of five subjects. Calculate percentage and print class accordingly. \n",
    "Fail below 35 </br>\n",
    "Pass Class between 35 to 45 </br>\n",
    "Second Class</br>\n",
    "between 45 to 60</br>\n",
    "First Class between 60 to 70</br> \n",
    "Distinction if more than 70"
   ]
  },
  {
   "cell_type": "code",
   "execution_count": null,
   "metadata": {},
   "outputs": [
    {
     "name": "stdout",
     "output_type": "stream",
     "text": [
      "Distinction , Percentage : 82.19999999999999\n"
     ]
    }
   ],
   "source": [
    "m1 = float(input('Enter a marks of first subject :'))\n",
    "m2 = float(input('Enter a marks of second subject :'))\n",
    "m3 = float(input('Enter a marks of third subject :'))\n",
    "m4 = float(input('Enter a marks of fourth subject :'))\n",
    "m5 = float(input('Enter a marks of fifth subject :'))\n",
    "\n",
    "percentage = float(((m1+m2+m3+m4+m5)/500)*100)\n",
    "\n",
    "if(percentage < 35) :\n",
    "    print('Fail !!!, Percentage :', percentage)\n",
    "elif(percentage < 45 and percentage >= 35) :\n",
    "    print('Pass , Percentage :', percentage)\n",
    "elif(percentage < 60 and percentage >= 45) :\n",
    "    print('Second , Percentage :', percentage)\n",
    "if(percentage < 70 and percentage >= 60) :\n",
    "    print('First , Percentage :', percentage)\n",
    "if(percentage > 70) :\n",
    "    print('Distinction , Percentage :', percentage)\n"
   ]
  },
  {
   "cell_type": "markdown",
   "metadata": {},
   "source": [
    "### 09) Three sides of a triangle are entered through the keyboard, WAP to check whether the triangle is isosceles, equilateral, scalene or right-angled triangle."
   ]
  },
  {
   "cell_type": "code",
   "execution_count": 39,
   "metadata": {},
   "outputs": [
    {
     "name": "stdout",
     "output_type": "stream",
     "text": [
      "The given sides do not form a triangle.\n"
     ]
    }
   ],
   "source": [
    "s1 = float(input('Enter a first side of triangle :'))\n",
    "s2 = float(input('Enter a second side of triangle :'))\n",
    "s3 = float(input('Enter a third side of triangle :'))\n",
    "\n",
    "if (s1+s2 > s3 and s2+s3 > s1 and s1+s3 > s2) :\n",
    "    if (s1==s2 or s2==s3 or s3==s1) :\n",
    "        print(\"This triangle is Isosceles.\")\n",
    "    elif (s1==s2 and s2==s3 and s3==s1) :\n",
    "        print('This triangle is Equilateral.')\n",
    "    elif (s1**2 + s2**2 == s3**2 or s2**2 + s3**2 == s1**2 or s1**2 + s3**2 == s2**2) :\n",
    "        print(\"This triangle is Right-angled.\")\n",
    "    else :\n",
    "        print('This triangle is Scalene.')\n",
    "else :\n",
    "    print(\"The given sides do not form a triangle.\")"
   ]
  },
  {
   "cell_type": "markdown",
   "metadata": {},
   "source": [
    "### 10) WAP to find the second largest number among three user input numbers."
   ]
  },
  {
   "cell_type": "code",
   "execution_count": 1,
   "metadata": {},
   "outputs": [
    {
     "name": "stdout",
     "output_type": "stream",
     "text": [
      "5\n"
     ]
    }
   ],
   "source": [
    "a = int(input('Enter a first number n1 ='))\n",
    "b = int(input('Enter a second number n2 ='))\n",
    "c = int(input('Enter a third number n3 ='))\n",
    "\n",
    "# if a > b:\n",
    "#     if a < c:\n",
    "#         secondLargest = a\n",
    "#     elif b > c:\n",
    "#         secondLargest = b\n",
    "#     else:\n",
    "#         secondLargest = c\n",
    "# else:\n",
    "#     if b < c:\n",
    "#         secondLargest = b\n",
    "#     elif a > c:\n",
    "#         secondLargest = a\n",
    "#     else:\n",
    "#         secondLargest = c\n",
    "\n",
    "secondLargest = a if((a>b and a<c) or (a>c or a<b)) else b if(b<c or a>c) else c \n",
    "\n",
    "print(secondLargest)"
   ]
  },
  {
   "cell_type": "markdown",
   "metadata": {},
   "source": [
    "### 11) WAP to calculate electricity bill based on following criteria. Which takes the unit from the user.\n",
    "a. First 1 to 50 units – Rs. 2.60/unit</br>\n",
    "b. Next 50 to 100 units – Rs. 3.25/unit</br>\n",
    "c. Next 100 to 200 units – Rs. 5.26/unit</br>\n",
    "d. above 200 units – Rs. 8.45/unit"
   ]
  },
  {
   "cell_type": "code",
   "execution_count": 41,
   "metadata": {},
   "outputs": [
    {
     "name": "stdout",
     "output_type": "stream",
     "text": [
      "Total Electricity bill is : Rs. 133.25\n"
     ]
    }
   ],
   "source": [
    "units = float(input(\"Enter the number of units consumed :\"))\n",
    "\n",
    "bill = 0\n",
    "\n",
    "if units <= 50 :\n",
    "    bill = units*2.6\n",
    "elif units <= 100 :\n",
    "    bill = (50*2.6) + ((units-50)*3.25)\n",
    "elif units <= 200 :\n",
    "    bill = (50*2.6) + (50*3.25) + ((units-100)*5.26)\n",
    "else :\n",
    "    bill = (50*2.6) + (50*3.25) + (100*5.26) + ((units-200)*8.45)\n",
    "\n",
    "print(\"Total Electricity bill is : Rs.\",bill)\n"
   ]
  }
 ],
 "metadata": {
  "kernelspec": {
   "display_name": "Python 3",
   "language": "python",
   "name": "python3"
  },
  "language_info": {
   "codemirror_mode": {
    "name": "ipython",
    "version": 3
   },
   "file_extension": ".py",
   "mimetype": "text/x-python",
   "name": "python",
   "nbconvert_exporter": "python",
   "pygments_lexer": "ipython3",
   "version": "3.13.0"
  }
 },
 "nbformat": 4,
 "nbformat_minor": 4
}
