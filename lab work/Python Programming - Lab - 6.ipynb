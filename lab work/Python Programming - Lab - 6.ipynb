{
 "cells": [
  {
   "attachments": {},
   "cell_type": "markdown",
   "metadata": {},
   "source": [
    "<a href='https://www.darshan.ac.in/'> <img src='https://www.darshan.ac.in/Content/media/DU_Logo.svg' width=\"250\" height=\"300\"/></a>\n",
    "<pre>\n",
    "<center><b><h1>Python Programming - 2301CS404</b></center>\n",
    "<center><b><h1>Lab - 6</b></center>   \n",
    "<center><b><h1>Parmar Vatsal | 23010101196 | A3</b></center> \n",
    "<pre>"
   ]
  },
  {
   "cell_type": "markdown",
   "metadata": {},
   "source": [
    "# Tuple"
   ]
  },
  {
   "cell_type": "code",
   "execution_count": 1,
   "metadata": {},
   "outputs": [],
   "source": [
    "# function for create list\n",
    "def createList():\n",
    "    n=int(input(\"Enter the Size of list:\"))\n",
    "    list=[]\n",
    "\n",
    "    for i in range(0,n):\n",
    "        element=int(input(f\"Enter the element at {i} :\"))\n",
    "        list.append(element)\n",
    "\n",
    "    return list\n",
    "\n",
    "# function for create tuple\n",
    "def createTuple():\n",
    "    n=int(input(\"Enter the Size of tuple:\"))\n",
    "    t1 = ()\n",
    "    \n",
    "    for i in range(n):\n",
    "        element=int(input(f\"Enter the element at {i} :\"))\n",
    "        t1=t1+(element,)      \n",
    "\n",
    "    return t1\n",
    "\n",
    "# def createTuple2():\n",
    "#     n=int(input(\"Enter the Size of tuple:\"))\n",
    "#     li = []\n",
    "    \n",
    "#     for i in range(n):\n",
    "#         element=int(input(f\"Enter the element at {i} :\"))\n",
    "#         li.append(element)      \n",
    "\n",
    "#     a = tuple(li)\n",
    "#     return a\n",
    "\n",
    "\n",
    "# function for create list of tuple\n",
    "def createListOfTuple():\n",
    "    n=int(input(\"Enter the Size of list:\"))\n",
    "    list=[]\n",
    "    \n",
    "    for i in range(n):\n",
    "        t=createTuple()\n",
    "        list.append(t)\n",
    "\n",
    "    return (list)\n",
    "\n",
    "# function for create tuple of list\n",
    "def createTupleOfList():\n",
    "    n=int(input(\"Enter the Size of tuple:\"))\n",
    "    OList=[]\n",
    "    IList=[]\n",
    "    \n",
    "    for i in range(n):\n",
    "        IList=createList()\n",
    "        OList.append(IList)\n",
    "\n",
    "    return tuple(OList)"
   ]
  },
  {
   "cell_type": "markdown",
   "metadata": {},
   "source": [
    "### 01) WAP to find sum of tuple elements."
   ]
  },
  {
   "cell_type": "code",
   "execution_count": 2,
   "metadata": {},
   "outputs": [
    {
     "name": "stdout",
     "output_type": "stream",
     "text": [
      "(1, 2, 3, 4, 5)\n",
      "Sum of tuple's elements : 15\n"
     ]
    }
   ],
   "source": [
    "t1 = createTuple()\n",
    "\n",
    "print(t1)\n",
    "\n",
    "sum = 0\n",
    "for i in t1:\n",
    "    sum += i\n",
    "\n",
    "print(\"Sum of tuple's elements :\", sum )"
   ]
  },
  {
   "cell_type": "markdown",
   "metadata": {},
   "source": [
    "### 02) WAP to find Maximum and Minimum K elements in a given tuple."
   ]
  },
  {
   "cell_type": "code",
   "execution_count": 3,
   "metadata": {},
   "outputs": [
    {
     "name": "stdout",
     "output_type": "stream",
     "text": [
      "tuple : (1, 6, 9, 7, 3, 8) and k : 2\n",
      "Minimum : [1, 3]\n",
      "Maximum : [6, 7, 8, 9]\n"
     ]
    }
   ],
   "source": [
    "t2 = createTuple()\n",
    "\n",
    "k = int(input('Enter the k :'))\n",
    "\n",
    "print(f\"tuple : {t2} and k : {k}\")\n",
    "\n",
    "li = sorted(t2)\n",
    "\n",
    "min = li[:k]\n",
    "max = li[k:]\n",
    "\n",
    "print('Minimum :',min)\n",
    "print('Maximum :',max)\n"
   ]
  },
  {
   "cell_type": "markdown",
   "metadata": {},
   "source": [
    "### 03) WAP to find tuples which have all elements divisible by K from a list of tuples."
   ]
  },
  {
   "cell_type": "code",
   "execution_count": 4,
   "metadata": {},
   "outputs": [
    {
     "name": "stdout",
     "output_type": "stream",
     "text": [
      "list of tuples: [(2,), (2, 4, 6)] and k: 2\n",
      "((2,), (2, 4, 6))\n"
     ]
    }
   ],
   "source": [
    "list_tuple1 = createListOfTuple()\n",
    "k = int(input('Enter the k:'))\n",
    "\n",
    "print(f\"list of tuples: {list_tuple1} and k: {k}\")\n",
    "\n",
    "ans = tuple(i for i in list_tuple1 if all(x%k==0 for x in i) )\n",
    "print(ans)"
   ]
  },
  {
   "cell_type": "markdown",
   "metadata": {},
   "source": [
    "### 04) WAP to create a list of tuples from given list having number and its cube in each tuple."
   ]
  },
  {
   "cell_type": "code",
   "execution_count": 6,
   "metadata": {},
   "outputs": [
    {
     "name": "stdout",
     "output_type": "stream",
     "text": [
      "List:  [3, 5]\n",
      "[(3, 27), (5, 125)]\n"
     ]
    }
   ],
   "source": [
    "li=createList()\n",
    "\n",
    "print('List: ',li)\n",
    "\n",
    "ans=[(num, num**3) for num in li]\n",
    "print(ans)"
   ]
  },
  {
   "cell_type": "markdown",
   "metadata": {},
   "source": [
    "### 05) WAP to find tuples with all positive elements from the given list of tuples."
   ]
  },
  {
   "cell_type": "code",
   "execution_count": 10,
   "metadata": {},
   "outputs": [
    {
     "name": "stdout",
     "output_type": "stream",
     "text": [
      "list of tuples: [(1, -5, 6), (1, 5, 2)]\n",
      "tuples which have all positive elements : ((1, 5, 2),)\n"
     ]
    }
   ],
   "source": [
    "list_tuple2 = createListOfTuple()\n",
    "\n",
    "print(f\"list of tuples: {list_tuple2}\")\n",
    "\n",
    "ans = [i for i in list_tuple2 if all(x>=0 for x in i)]\n",
    "ans = tuple(ans)\n",
    "print('tuples which have all positive elements :',ans)"
   ]
  },
  {
   "cell_type": "markdown",
   "metadata": {},
   "source": [
    "### 06) WAP to add tuple to list and vice – versa."
   ]
  },
  {
   "cell_type": "code",
   "execution_count": 20,
   "metadata": {},
   "outputs": [
    {
     "name": "stdout",
     "output_type": "stream",
     "text": [
      "list: [4, 5, 6] and tuple: (1, 9)\n",
      "tuple add in list : [4, 5, 6, (1, 9)]\n",
      "list add in tuple : (1, 9, 4, 5, 6, (1, 9))\n"
     ]
    }
   ],
   "source": [
    "li = createList()\n",
    "t6 = createTuple()\n",
    "\n",
    "print(f\"list: {li} and tuple: {t6}\")\n",
    "\n",
    "li.append(t6)\n",
    "print('tuple add in list :',li)\n",
    "\n",
    "update_t6 = t6 + tuple(li)\n",
    "print('list add in tuple :',update_t6)"
   ]
  },
  {
   "cell_type": "markdown",
   "metadata": {},
   "source": [
    "### 07) WAP to remove tuples of length K."
   ]
  },
  {
   "cell_type": "code",
   "execution_count": 16,
   "metadata": {},
   "outputs": [
    {
     "name": "stdout",
     "output_type": "stream",
     "text": [
      "Before list : [(1,), (1, 2), (3,)] and k : 1\n",
      "After list : [(1, 2)]\n"
     ]
    }
   ],
   "source": [
    "li = createListOfTuple()\n",
    "k = int(input('Enter the k :'))\n",
    "\n",
    "print(f\"Before list: {li} and k: {k}\")\n",
    "\n",
    "for i in li:\n",
    "    if len(i) == k:\n",
    "        li.remove(i)\n",
    "\n",
    "print('After list :',li)"
   ]
  },
  {
   "cell_type": "markdown",
   "metadata": {},
   "source": [
    "### 08) WAP to remove duplicates from tuple."
   ]
  },
  {
   "cell_type": "code",
   "execution_count": 19,
   "metadata": {},
   "outputs": [
    {
     "name": "stdout",
     "output_type": "stream",
     "text": [
      "Before : (1, 3, 1, 4, 3)\n",
      "After : (1, 3, 4)\n"
     ]
    }
   ],
   "source": [
    "t8 = createTuple()\n",
    "\n",
    "print('Before :',t8)\n",
    "\n",
    "t8 = tuple(set(t8))\n",
    "\n",
    "print('After :',t8)"
   ]
  },
  {
   "cell_type": "markdown",
   "metadata": {},
   "source": [
    "### 09) WAP to multiply adjacent elements of a tuple and print that resultant tuple."
   ]
  },
  {
   "cell_type": "code",
   "execution_count": 22,
   "metadata": {},
   "outputs": [
    {
     "name": "stdout",
     "output_type": "stream",
     "text": [
      "tuple : (2, 4, 6, 8)\n",
      "Result : (8, 24, 48)\n"
     ]
    }
   ],
   "source": [
    "t9 = createTuple()\n",
    "\n",
    "print('tuple :',t9)\n",
    "\n",
    "li = list(t9)\n",
    "ans = []\n",
    "\n",
    "for i in range(len(li)-1):\n",
    "    ans.append(li[i]*li[i+1])\n",
    "\n",
    "resultant_tuple = tuple(ans)\n",
    "\n",
    "print('Result :',resultant_tuple)"
   ]
  },
  {
   "cell_type": "markdown",
   "metadata": {},
   "source": [
    "### 10) WAP to test if the given tuple is distinct or not."
   ]
  },
  {
   "cell_type": "code",
   "execution_count": 24,
   "metadata": {},
   "outputs": [
    {
     "name": "stdout",
     "output_type": "stream",
     "text": [
      "(2, 3, 4, 5, 5, 6) is not distinct\n"
     ]
    }
   ],
   "source": [
    "t10=createTuple()\n",
    "ans=True\n",
    "\n",
    "di=dict.fromkeys(t10,0)\n",
    "\n",
    "for i in t10:\n",
    "    di[i]+=1\n",
    "    if di[i]>1:\n",
    "        ans=False\n",
    "        break\n",
    "\n",
    "if(ans):\n",
    "    print(t10,\"is distinct\")\n",
    "else:\n",
    "    print(t10,\"is not distinct\")"
   ]
  }
 ],
 "metadata": {
  "kernelspec": {
   "display_name": "Python 3",
   "language": "python",
   "name": "python3"
  },
  "language_info": {
   "codemirror_mode": {
    "name": "ipython",
    "version": 3
   },
   "file_extension": ".py",
   "mimetype": "text/x-python",
   "name": "python",
   "nbconvert_exporter": "python",
   "pygments_lexer": "ipython3",
   "version": "3.13.0"
  }
 },
 "nbformat": 4,
 "nbformat_minor": 4
}
