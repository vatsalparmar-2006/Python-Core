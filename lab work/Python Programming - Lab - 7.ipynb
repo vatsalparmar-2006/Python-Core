{
 "cells": [
  {
   "cell_type": "markdown",
   "metadata": {},
   "source": [
    "<a href='https://www.darshan.ac.in/'> <img src='https://www.darshan.ac.in/Content/media/DU_Logo.svg' width=\"250\" height=\"300\"/></a>\n",
    "<pre>\n",
    "<center><b><h1>Python Programming - 2301CS404</b></center>\n",
    "<center><b><h1>Lab - 7</b></center>   \n",
    "<center><b><h1>Parmar Vatsal | 23010101196 | A3</b></center> \n",
    "<pre>"
   ]
  },
  {
   "cell_type": "markdown",
   "metadata": {},
   "source": [
    "# Set & Dictionary"
   ]
  },
  {
   "cell_type": "markdown",
   "metadata": {},
   "source": [
    "### 01) WAP to iterate over a set."
   ]
  },
  {
   "cell_type": "code",
   "execution_count": 1,
   "metadata": {},
   "outputs": [
    {
     "name": "stdout",
     "output_type": "stream",
     "text": [
      "Set s1 : {1, 2, 3, 4, 5}\n"
     ]
    }
   ],
   "source": [
    "s1 = {1,2,3,4,5}\n",
    "\n",
    "print('Set s1 :',s1)"
   ]
  },
  {
   "cell_type": "markdown",
   "metadata": {},
   "source": [
    "### 02) WAP to convert set into list, string and tuple."
   ]
  },
  {
   "cell_type": "code",
   "execution_count": 2,
   "metadata": {},
   "outputs": [
    {
     "name": "stdout",
     "output_type": "stream",
     "text": [
      "<class 'set'> {1, 2, 3, 4, 5}\n",
      "<class 'list'> [1, 2, 3, 4, 5]\n",
      "<class 'str'> {1, 2, 3, 4, 5}\n",
      "<class 'tuple'> (1, 2, 3, 4, 5)\n"
     ]
    }
   ],
   "source": [
    "st = {1,2,3,4,5}\n",
    "print(type(st),st)\n",
    "li = list(st)\n",
    "print(type(li),li)\n",
    "string = str(st)\n",
    "print(type(string),string)\n",
    "tup = tuple(st)\n",
    "print(type(tup),tup)"
   ]
  },
  {
   "cell_type": "markdown",
   "metadata": {},
   "source": [
    "### 03) WAP to find Maximum and Minimum from a set."
   ]
  },
  {
   "cell_type": "code",
   "execution_count": 3,
   "metadata": {},
   "outputs": [
    {
     "name": "stdout",
     "output_type": "stream",
     "text": [
      "Minimum: 0 and Maximum: 11\n"
     ]
    }
   ],
   "source": [
    "s3 = {2,9,5,3,7,6,4,11,9,0}\n",
    "\n",
    "max = max(s3)\n",
    "min = min(s3)\n",
    "\n",
    "print(f\"Minimum: {min} and Maximum: {max}\")"
   ]
  },
  {
   "cell_type": "markdown",
   "metadata": {},
   "source": [
    "### 04) WAP to perform union of two sets."
   ]
  },
  {
   "cell_type": "code",
   "execution_count": 4,
   "metadata": {},
   "outputs": [
    {
     "name": "stdout",
     "output_type": "stream",
     "text": [
      "Union of both set : {0, 1, 2, 3, 4, 5, 6, 7, 9, 11}\n"
     ]
    }
   ],
   "source": [
    "set1 = {1,2,3,4,5}\n",
    "set2 = {2,9,5,3,7,6,4,11,9,0}\n",
    "\n",
    "print('Union of both set :',set1.union(set2))"
   ]
  },
  {
   "cell_type": "markdown",
   "metadata": {},
   "source": [
    "### 05) WAP to check if two lists have at-least one element common."
   ]
  },
  {
   "cell_type": "code",
   "execution_count": 6,
   "metadata": {},
   "outputs": [
    {
     "name": "stdout",
     "output_type": "stream",
     "text": [
      "Intersection : {2, 3, 4, 5}\n"
     ]
    }
   ],
   "source": [
    "set1 = {1,2,3,4,5}\n",
    "set2 = {2,9,5,3,7,6,4,11,9,0}\n",
    "\n",
    "temp = set1.intersection(set2)\n",
    "\n",
    "if(temp != \"null\"):\n",
    "    print('Intersection :',temp)\n",
    "else:\n",
    "    print('No common element from the sets.')"
   ]
  },
  {
   "cell_type": "markdown",
   "metadata": {},
   "source": [
    "### 06) WAP to remove duplicates from list."
   ]
  },
  {
   "cell_type": "code",
   "execution_count": 7,
   "metadata": {},
   "outputs": [
    {
     "name": "stdout",
     "output_type": "stream",
     "text": [
      "Before: [2, 6, 4, 3, 4, 9, 2, 6, 0, 2, 1, 6, 3, 1, 0]\n",
      "After: [0, 1, 2, 3, 4, 6, 9]\n"
     ]
    }
   ],
   "source": [
    "li = [2,6,4,3,4,9,2,6,0,2,1,6,3,1,0]\n",
    "\n",
    "print('Before:',li)\n",
    "\n",
    "li = list(set(li))\n",
    "\n",
    "print('After:',li)"
   ]
  },
  {
   "cell_type": "markdown",
   "metadata": {},
   "source": [
    "### 07) WAP to find unique words in the given string."
   ]
  },
  {
   "cell_type": "code",
   "execution_count": 9,
   "metadata": {},
   "outputs": [
    {
     "name": "stdout",
     "output_type": "stream",
     "text": [
      "Before: Virat Kohli is a batsman and Rohit is a batsman.\n",
      "After: {'Rohit', 'batsman', 'and', 'is', 'a', 'batsman.', 'Virat', 'Kohli'}\n"
     ]
    }
   ],
   "source": [
    "str = 'Virat Kohli is a batsman and Rohit is a batsman.'\n",
    "\n",
    "print('Before:',str)\n",
    "\n",
    "str = set(str.split())\n",
    "\n",
    "print('After:',str)"
   ]
  },
  {
   "cell_type": "markdown",
   "metadata": {},
   "source": [
    "### 08) WAP to remove common elements of set A & B from set A."
   ]
  },
  {
   "cell_type": "code",
   "execution_count": 10,
   "metadata": {},
   "outputs": [
    {
     "name": "stdout",
     "output_type": "stream",
     "text": [
      "Remove common ele from both sets {0, 1, 6, 7, 9, 11}\n"
     ]
    }
   ],
   "source": [
    "setA = {1,2,3,4,5}\n",
    "setB = {2,9,5,3,7,6,4,11,9,0}\n",
    "\n",
    "print('Remove common ele from both sets',setA.symmetric_difference(setB))"
   ]
  },
  {
   "cell_type": "markdown",
   "metadata": {},
   "source": [
    "### 09) WAP to check whether two given strings are anagram or not using set."
   ]
  },
  {
   "cell_type": "code",
   "execution_count": 13,
   "metadata": {},
   "outputs": [
    {
     "name": "stdout",
     "output_type": "stream",
     "text": [
      "Given strings are Anagram.\n"
     ]
    }
   ],
   "source": [
    "str1 = 'Medical'\n",
    "str2 = 'Decimal'\n",
    "\n",
    "if(set(str1.lower())==set(str2.lower())):\n",
    "    print('Given strings are Anagram.')\n",
    "else:\n",
    "    print('Given strings are not anagram.')"
   ]
  },
  {
   "cell_type": "markdown",
   "metadata": {},
   "source": [
    "### 10) WAP to find common elements in three lists using set."
   ]
  },
  {
   "cell_type": "code",
   "execution_count": 14,
   "metadata": {},
   "outputs": [
    {
     "name": "stdout",
     "output_type": "stream",
     "text": [
      "{3}\n"
     ]
    }
   ],
   "source": [
    "l1,l2,l3 = [1,2,3],[3,4,5],[3,4,5,6]\n",
    "s1,s2,s3 = set(l1),set(l2),set(l3)\n",
    "print((s1&s2)&s3)"
   ]
  },
  {
   "cell_type": "markdown",
   "metadata": {},
   "source": [
    "### 11) WAP to count number of vowels in given string using set."
   ]
  },
  {
   "cell_type": "code",
   "execution_count": 16,
   "metadata": {},
   "outputs": [
    {
     "name": "stdout",
     "output_type": "stream",
     "text": [
      "String(set) is {'l', 'a', 'p', 'e', 'n', ' ', 'y', 'g', 't', 'u', 'o', 'h'}\n",
      "Number of vowels : 4\n"
     ]
    }
   ],
   "source": [
    "str = input('Enter a string what you want').lower()\n",
    "\n",
    "set11 = set(str)\n",
    "\n",
    "print('String(set) is',set11)\n",
    "\n",
    "vowels = ['a','e','i','o','u']\n",
    "count = 0\n",
    "\n",
    "for i in set11:\n",
    "    if i in vowels:\n",
    "        count += 1\n",
    "\n",
    "print('Number of vowels :',count)"
   ]
  },
  {
   "cell_type": "markdown",
   "metadata": {},
   "source": [
    "### 12) WAP to check if a given string is binary string or not."
   ]
  },
  {
   "cell_type": "code",
   "execution_count": 17,
   "metadata": {},
   "outputs": [
    {
     "name": "stdout",
     "output_type": "stream",
     "text": [
      "String : 00110\n",
      "binary string = True\n"
     ]
    }
   ],
   "source": [
    "binary = {'0', '1'}\n",
    "\n",
    "str = input('Enter a string what you want').lower()\n",
    "\n",
    "print('String :',str)\n",
    "\n",
    "print(f\"binary string = {binary == set(str) or set(str) == '0' or set(str) == '1'}\")"
   ]
  },
  {
   "cell_type": "markdown",
   "metadata": {},
   "source": [
    "### 13) WAP to sort dictionary by key or value."
   ]
  },
  {
   "cell_type": "code",
   "execution_count": 44,
   "metadata": {},
   "outputs": [
    {
     "name": "stdout",
     "output_type": "stream",
     "text": [
      "Before: {3: 'Language', 2: 'Programming', 1: 'Python'}\n",
      "Sort by key : {1: 'Python', 2: 'Programming', 3: 'Language'}\n",
      "Sort by Value: {3: 'Language', 2: 'Programming', 1: 'Python'}\n"
     ]
    }
   ],
   "source": [
    "dictinary = {3: 'Language',2: 'Programming', 1: 'Python'}\n",
    "\n",
    "print('Before:',dictinary)\n",
    "\n",
    "keys = list(dictinary.keys())\n",
    "values = list(dictinary.values())\n",
    "\n",
    "keys.sort()\n",
    "values.sort()\n",
    "\n",
    "res1 = {i: dictinary[i] for i in keys}\n",
    "print('Sort by key :',res1)\n",
    "\n",
    "sorted_values = sorted(dictinary.items(), key=lambda item: item[1])\n",
    "res2 = {k: v for k, v in sorted_values}\n",
    "\n",
    "print('Sort by Value:', res2)"
   ]
  },
  {
   "cell_type": "markdown",
   "metadata": {},
   "source": [
    "### 14) WAP to find the sum of all items (values) in a dictionary given by user. (Assume: values are numeric)"
   ]
  },
  {
   "cell_type": "code",
   "execution_count": 26,
   "metadata": {},
   "outputs": [
    {
     "name": "stdout",
     "output_type": "stream",
     "text": [
      "Sum of values : 22\n"
     ]
    }
   ],
   "source": [
    "dit = {'a':2, 'b':5, 'c':9, 'd':6}\n",
    "\n",
    "sum = 0\n",
    "\n",
    "for i in dit:\n",
    "    sum += dit[i]\n",
    "\n",
    "print('Sum of values :',sum)"
   ]
  },
  {
   "cell_type": "markdown",
   "metadata": {},
   "source": [
    "### 15) WAP to handle missing keys in dictionaries.\n",
    "#### Example : Given, dict1 = {'a': 5, 'c': 8, 'e': 2} \n",
    "#### if you look for key = 'd', the message given should be 'Key Not Found', otherwise print the value of 'd' in dict1."
   ]
  },
  {
   "cell_type": "code",
   "execution_count": null,
   "metadata": {},
   "outputs": [
    {
     "name": "stdout",
     "output_type": "stream",
     "text": [
      "key: a and value: 5\n"
     ]
    }
   ],
   "source": [
    "dit = {'a': 5, 'c': 8, 'e': 2}\n",
    "ch = input(\"Enter char : \").lower()\n",
    "if(ch in dit):\n",
    "    print(f\"key: {ch} and value: {dit[ch]}\")\n",
    "else:\n",
    "    print('Key Not Found')"
   ]
  }
 ],
 "metadata": {
  "kernelspec": {
   "display_name": "Python 3",
   "language": "python",
   "name": "python3"
  },
  "language_info": {
   "codemirror_mode": {
    "name": "ipython",
    "version": 3
   },
   "file_extension": ".py",
   "mimetype": "text/x-python",
   "name": "python",
   "nbconvert_exporter": "python",
   "pygments_lexer": "ipython3",
   "version": "3.13.0"
  }
 },
 "nbformat": 4,
 "nbformat_minor": 4
}
