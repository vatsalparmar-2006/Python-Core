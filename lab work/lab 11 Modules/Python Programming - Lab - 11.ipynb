{
 "cells": [
  {
   "attachments": {},
   "cell_type": "markdown",
   "metadata": {},
   "source": [
    "<a href='https://www.darshan.ac.in/'> <img src='https://www.darshan.ac.in/Content/media/DU_Logo.svg' width=\"250\" height=\"300\"/></a>\n",
    "<pre>\n",
    "<center><b><h1>Python Programming - 2301CS404</b></center>\n",
    "<center><b><h1>Lab - 11</b></center>    \n",
    "<pre>"
   ]
  },
  {
   "cell_type": "markdown",
   "metadata": {},
   "source": [
    "# Modules"
   ]
  },
  {
   "cell_type": "markdown",
   "metadata": {},
   "source": [
    "### 01) WAP to create Calculator module which defines functions like add, sub,mul and div. \n",
    "### Create another .py file that uses the functions available in Calculator module."
   ]
  },
  {
   "cell_type": "code",
   "execution_count": 3,
   "metadata": {},
   "outputs": [
    {
     "name": "stdout",
     "output_type": "stream",
     "text": [
      "Additon of 1,8 is: 9\n",
      "Substraction of 9,4 is: 5\n",
      "Multiplication of 4,5 is: 20\n",
      "Division of 10,5 is: 2.0\n"
     ]
    }
   ],
   "source": [
    "from calc import *\n",
    "\n",
    "print('Additon of 1,8 is:',add(1,8))\n",
    "print('Substraction of 9,4 is:',subtract(9,4))\n",
    "print('Multiplication of 4,5 is:',multiply(4,5))\n",
    "print('Division of 10,5 is:',division(10,5))\n"
   ]
  },
  {
   "cell_type": "markdown",
   "metadata": {},
   "source": [
    "### 02) WAP to pick a random character from a given String."
   ]
  },
  {
   "cell_type": "code",
   "execution_count": 7,
   "metadata": {},
   "outputs": [
    {
     "name": "stdout",
     "output_type": "stream",
     "text": [
      "Python Language -> Random Character : g\n"
     ]
    }
   ],
   "source": [
    "import random\n",
    "\n",
    "str = 'Python Language'\n",
    "print(f\"{str} -> Random Character : {random.choice(str)}\")"
   ]
  },
  {
   "cell_type": "markdown",
   "metadata": {},
   "source": [
    "### 03) WAP to pick a random element from a given list."
   ]
  },
  {
   "cell_type": "code",
   "execution_count": 11,
   "metadata": {},
   "outputs": [
    {
     "name": "stdout",
     "output_type": "stream",
     "text": [
      "[2, 9, 4, 11, 35, 46] -> Random Element : 9\n"
     ]
    }
   ],
   "source": [
    "import random\n",
    "\n",
    "li = [2,9,4,11,35,46]\n",
    "print(f\"{li} -> Random Element : {random.choice(li)}\")"
   ]
  },
  {
   "cell_type": "markdown",
   "metadata": {},
   "source": [
    "### 04) WAP to roll a dice in such a way that every time you get the same number."
   ]
  },
  {
   "cell_type": "code",
   "execution_count": null,
   "metadata": {},
   "outputs": [
    {
     "name": "stdout",
     "output_type": "stream",
     "text": [
      "Fix at seed_value 3 -> 2\n"
     ]
    }
   ],
   "source": [
    "import random\n",
    "\n",
    "def roll_dice():\n",
    "    return random.randint(1,7)\n",
    "\n",
    "random.seed(3)\n",
    "print(f\"Fix at seed_value 3 -> {roll_dice()}\")"
   ]
  },
  {
   "cell_type": "markdown",
   "metadata": {},
   "source": [
    "### 05) WAP to generate 3 random integers between 100 and 999 which is divisible by 5."
   ]
  },
  {
   "cell_type": "code",
   "execution_count": 17,
   "metadata": {},
   "outputs": [
    {
     "name": "stdout",
     "output_type": "stream",
     "text": [
      "Random numbers between 100 and 999 -> [585, 740, 720]\n"
     ]
    }
   ],
   "source": [
    "import random\n",
    "\n",
    "def random_generates():\n",
    "    count = 0\n",
    "    random_numbers = []\n",
    "    while count!= 3:\n",
    "        random_number = random.randint(100, 1000)\n",
    "        if random_number % 5 == 0:\n",
    "            random_numbers.append(random_number)\n",
    "            count += 1\n",
    "    \n",
    "    return random_numbers\n",
    "\n",
    "print(f\"Random numbers between 100 and 999 -> {random_generates()}\")"
   ]
  },
  {
   "cell_type": "markdown",
   "metadata": {},
   "source": [
    "### 06) WAP to generate 100 random lottery tickets and pick two lucky tickets from it and announce them as Winner and Runner up respectively."
   ]
  },
  {
   "cell_type": "code",
   "execution_count": null,
   "metadata": {},
   "outputs": [
    {
     "name": "stdout",
     "output_type": "stream",
     "text": [
      "Winner's Ticket number: 251 /n RunnerUp's Ticket number: 241\n"
     ]
    }
   ],
   "source": [
    "import random\n",
    "\n",
    "def two_lucky_tickets():\n",
    "    count = 0\n",
    "    lucky_tickets = [random.randint(1,1000) for x in range(1,101)]\n",
    "    two_lucky_tickets = random.sample(lucky_tickets, 2)\n",
    "    \n",
    "    return two_lucky_tickets\n",
    "\n",
    "print(f\"Winner's Ticket number: {two_lucky_tickets()[0]} '/n RunnerUp's Ticket number: {two_lucky_tickets()[1]}\")"
   ]
  },
  {
   "cell_type": "markdown",
   "metadata": {},
   "source": [
    "### 07) WAP to print current date and time in Python."
   ]
  },
  {
   "cell_type": "code",
   "execution_count": 31,
   "metadata": {},
   "outputs": [
    {
     "name": "stdout",
     "output_type": "stream",
     "text": [
      "Current Date: 2025-02-14 and Current Time: 2025-02-14 13:07:33.801163\n"
     ]
    }
   ],
   "source": [
    "import datetime\n",
    "\n",
    "print(f\"Current Date: {datetime.date.today()} and Current Time: {datetime.datetime.now()}\")"
   ]
  },
  {
   "cell_type": "markdown",
   "metadata": {},
   "source": [
    "### 08) Subtract a week (7 days) from a given date in Python."
   ]
  },
  {
   "cell_type": "code",
   "execution_count": 36,
   "metadata": {},
   "outputs": [
    {
     "name": "stdout",
     "output_type": "stream",
     "text": [
      "2025-02-14\n"
     ]
    },
    {
     "data": {
      "text/plain": [
       "datetime.date(2025, 2, 14)"
      ]
     },
     "execution_count": 36,
     "metadata": {},
     "output_type": "execute_result"
    }
   ],
   "source": [
    "import datetime\n",
    "\n",
    "print(datetime.date.today())\n",
    "datetime.date.today()"
   ]
  },
  {
   "cell_type": "markdown",
   "metadata": {},
   "source": [
    "### 09) WAP to Calculate number of days between two given dates."
   ]
  },
  {
   "cell_type": "code",
   "execution_count": 40,
   "metadata": {},
   "outputs": [
    {
     "name": "stdout",
     "output_type": "stream",
     "text": [
      "40 days, 13:20:01.513335\n"
     ]
    }
   ],
   "source": [
    "import datetime\n",
    "\n",
    "print(datetime.datetime.now() - datetime.datetime(2025,1,5))"
   ]
  },
  {
   "cell_type": "markdown",
   "metadata": {},
   "source": [
    "### 10) WAP to Find the day of the week of a given date.(i.e. wether it is sunday/monday/tuesday/etc.)"
   ]
  },
  {
   "cell_type": "code",
   "execution_count": 41,
   "metadata": {},
   "outputs": [
    {
     "name": "stdout",
     "output_type": "stream",
     "text": [
      "Thursday\n"
     ]
    }
   ],
   "source": [
    "import datetime\n",
    "\n",
    "x = datetime.datetime(2025, 2, 13)\n",
    "print(x.strftime(\"%A\"))"
   ]
  },
  {
   "cell_type": "markdown",
   "metadata": {},
   "source": [
    "### 11) WAP to demonstrate the use of date time module."
   ]
  },
  {
   "cell_type": "code",
   "execution_count": 42,
   "metadata": {},
   "outputs": [
    {
     "name": "stdout",
     "output_type": "stream",
     "text": [
      "13\n"
     ]
    }
   ],
   "source": [
    "import datetime\n",
    "\n",
    "y = datetime.datetime.now()\n",
    "print(y.strftime('%H'))"
   ]
  },
  {
   "cell_type": "markdown",
   "metadata": {},
   "source": [
    "### 12) WAP to demonstrate the use of the math module."
   ]
  },
  {
   "cell_type": "code",
   "execution_count": null,
   "metadata": {},
   "outputs": [
    {
     "name": "stdout",
     "output_type": "stream",
     "text": [
      "Power: 25.0\n",
      "GCD: 2\n",
      "Square Root: 5.0\n",
      "Factorial: 120\n",
      "Natural Log: 2.302585092994046\n",
      "Pi: 3.141592653589793\n",
      "Euler's Number: 2.718281828459045\n",
      "Tangent(π/2): 1.633123935319537e+16\n",
      "Sine(π/2): 1.0\n",
      "Cosine(π/2): 6.123233995736766e-17\n",
      "Ceiling: 4\n",
      "Floor: 3\n",
      "Absolute Value: 3.7\n",
      "Modulo: 1.0\n",
      "Truncate: 3\n",
      "Floating Sum: 15.0\n",
      "Product: 120\n",
      "GCD: 6\n",
      "LCM: 36\n",
      "Permutations: 20\n"
     ]
    }
   ],
   "source": [
    "import math\n",
    "\n",
    "print(f\"Power: {math.pow(5,2)}\")\n",
    "print(f\"GCD: {math.gcd(2,8)}\")\n",
    "print(f\"Square Root: {math.sqrt(25)}\")\n",
    "print(f\"Factorial: {math.factorial(5)}\")\n",
    "print(f\"Natural Log: {math.log(10)}\")\n",
    "print(f\"Pi: {math.pi}\")\n",
    "print(f\"Euler's Number: {math.e}\")\n",
    "print(f\"Tangent(π/2): {math.tan(math.pi/2)}\")\n",
    "print(f\"Sine(π/2): {math.sin(math.pi/2)}\")\n",
    "print(f\"Cosine(π/2): {math.cos(math.pi/2)}\")\n",
    "print(f\"Ceiling: {math.ceil(3.7)}\")\n",
    "print(f\"Floor: {math.floor(3.7)}\")\n",
    "print(f\"Absolute Value: {math.fabs(-3.7)}\")\n",
    "print(f\"Modulo: {math.fmod(10,3)}\")\n",
    "print(f\"Truncate: {math.trunc(3.7)}\")\n",
    "print(f\"Floating Sum: {math.fsum([1,2,3,4,5])}\")\n",
    "print(f\"Product: {math.prod([1,2,3,4,5])}\")\n",
    "print(f\"GCD: {math.gcd(12,18)}\")\n",
    "print(f\"LCM: {math.lcm(12,18)}\")\n",
    "print(f\"Permutations: {math.perm(5,2)}\")"
   ]
  }
 ],
 "metadata": {
  "kernelspec": {
   "display_name": "Python 3",
   "language": "python",
   "name": "python3"
  },
  "language_info": {
   "codemirror_mode": {
    "name": "ipython",
    "version": 3
   },
   "file_extension": ".py",
   "mimetype": "text/x-python",
   "name": "python",
   "nbconvert_exporter": "python",
   "pygments_lexer": "ipython3",
   "version": "3.13.0"
  }
 },
 "nbformat": 4,
 "nbformat_minor": 4
}
